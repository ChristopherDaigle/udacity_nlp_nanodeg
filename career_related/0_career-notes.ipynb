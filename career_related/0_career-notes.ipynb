{
 "cells": [
  {
   "cell_type": "markdown",
   "id": "6d960435-d134-4127-a999-8e0b2fb3eb73",
   "metadata": {},
   "source": [
    "# Jobs in NLP\n",
    "\n",
    "## 6 Questions About Natural Language Processing Jobs\n",
    "\n",
    "1. How do I break into Natural Language Processing?<br>\n",
    "2. What can I do beyond my Nanodegree Program to impress employers?<br>\n",
    "3. Are there any education requirements for pursuing a job in Natural Language Processing?<br>\n",
    "4. What are some jobs that involve Natural Language Processing?<br>\n",
    "5. How can I prepare for interviews?<br>\n",
    "6. Okay, I know all of this now. What should I do next?<br>"
   ]
  },
  {
   "cell_type": "markdown",
   "id": "88883336-066f-45d6-b230-104d00d70b09",
   "metadata": {},
   "source": [
    "### 1. How do I break into Natural Language Processing?\n",
    "\n",
    "NLP is becoming an increasingly multidisciplinary field, and it can be daunting to define its scope on your own. Take the time to conduct some [industry research](https://career-resource-center.udacity.com/tech-jobs-find-your-career-path/career-industry-research), starting with identifying your own interests and subsequently keeping up with the most updated news around the applications of NLP in different roles and relevant industries. Your entrance into the field can come from a variety of ways. You can be an existing software engineer or data scientist who learns NLP concepts and skills. Or, you can be a linguist who learns programming. Remember that there is a very human element with NLP, especially with robots. If an intelligent robot has a human voice that's a little too creepy to consumers, who is best equipped to offer a solution to this? It would likely be a team made up of people with linguistics, psychology, and software development skills.\n",
    "\n",
    "Once you’ve identified potential entry points based on your skills, interests and background, you’ll be able to build a roadmap for how to break into the industry, whether that involves attaining more industry-specific skills and experience, building your online presence in the industry, or improving your existing portfolio to target your desired role — or all of the above."
   ]
  },
  {
   "cell_type": "markdown",
   "id": "9ee9555c-056e-43ce-9607-cd0fcc840ccb",
   "metadata": {},
   "source": [
    "### 2. What can I do beyond my Nanodegree Program to impress employers?\n",
    "\n",
    "Aside from what you’ve learned in the Nanodegree program, characteristics of successful professionals working on NLP include (but are not limited to) the following:\n",
    "\n",
    "* Time management\n",
    "* Good communication skills to convey highly technical information to fellow team members\n",
    "* Demonstrated curiosity and passion for solving NLP problems — this translates into professional and competitive foresight that can help a company stay on the cutting edge.\n",
    "\n",
    "You can demonstrate these qualities with the following behaviors:\n",
    "\n",
    "* Contribute to open source NLP projects (you can showcase your work via GitHub)\n",
    "* Write articles on relevant NLP topics, participate in online discussions, sharing NLP news via LinkedIn to demonstrate your interest and thought leadership\n",
    "* Continue learning new skills and improving proficiency with NLP open source libraries, such as [NLTK](http://www.nltk.org/), [spaCy](https://spacy.io/), [Gensim](https://radimrehurek.com/gensim/)\n",
    "\n",
    "Although the above is by no means an exhaustive list, taking the time to practice these behaviors will only strengthen your chances of moving forward in an application process."
   ]
  },
  {
   "cell_type": "markdown",
   "id": "47928b5b-0841-4f0d-afbd-e9a8967a94d0",
   "metadata": {},
   "source": [
    "### 3. Are there any education requirements for pursuing a job in Natural Language Processing?\n",
    "\n",
    "If you are looking for a very research heavy role, the job might ask for a PhD. A way to navigate against this requirement if you don't have the educational background is to enter the industry in another way. For example, can you join an NLP-focused company as a software engineer or data analyst, and grow in the company?\n",
    "\n",
    "While there is great value in performing academic work to push the field forward, in the job market, what matters most is demonstrating your ability to do the job well.\n",
    "\n",
    "To do this, it’s important that you optimize your online professional profiles, such as on LinkedIn and GitHub. These are the most common profiles that recruiters will rely on to assess you as an applicant, so be sure to dedicate some time improving them if you haven’t already. A great place to start is with the career projects in your classroom, which provide you with an opportunity to receive personalized feedback on how to make improvements."
   ]
  },
  {
   "cell_type": "markdown",
   "id": "b40e5e27-00aa-49be-bbeb-63d3b47885fd",
   "metadata": {},
   "source": [
    "### 4. What are some jobs that involve Natural Language Processing?\n",
    "\n",
    "After completing this Nanodegree program, you could potentially work in a variety of roles that involve solving NLP problems, such as:\n",
    "\n",
    "* Machine Learning Engineer\n",
    "* NLP Engineer\n",
    "* NLP Data Scientist\n",
    "* NLP Researcher\n",
    "* Computational Linguist\n",
    "* Voice User Interface Designer\n",
    "* Conversation Designer\n",
    "\n",
    "As you can see, there are many roles available related to NLP. In order to find the role that is a good fit for you, be sure to pay attention to the job description to determine whether the role will involve working on NLP problems. Some of these roles may also require you to cultivate additional skills in order to meet their qualifications. (Tip: If you're more than 75% qualified for the job on paper, you're probably a good candidate and should give applying a shot!)\n",
    "\n",
    "In the beginning, you might find that instead of searching for specific job titles, finding top AI startups and companies and looking at their overall jobs page is more helpful for surfacing potential opportunities."
   ]
  },
  {
   "cell_type": "markdown",
   "id": "a74ef44c-4613-4da6-a56f-d0a0fcf85977",
   "metadata": {},
   "source": [
    "### 5. How can I prepare for interviews?\n",
    "\n",
    "As with any other industry or role, practice is essential. There is a wide offering of interview resources available online, including practice questions and solutions. To get you started, we recommend checking out the following resources:\n",
    "\n",
    "> * [NLP on Quora](https://www.quora.com/topic/Natural-Language-Processing) — Did you know that a lot of NLP experts and researchers frequently answer questions on Quora? For this reason, Quora has amassed a large database of information (including interview questions) on NLP.\n",
    "\n",
    "> * [NLP on Reddit](https://www.reddit.com/r/LanguageTechnology) — Interviewing is a common topic in Reddit’s NLP (or /r/LanguageTechnology) forums.\n",
    "\n",
    "Additionally, your interviewer will likely ask for your opinion on research topics related to the problems you will be expected to solve on the job. While you are not expected to know the answers to everything, this is also helpful for gauging your depth of knowledge, passion for the field, and whether you’ve stayed informed on the latest advances and developments in the field. You can stay informed by reading up on NLP in places such as [Medium](https://medium.com/tag/nlp) and active blogs."
   ]
  },
  {
   "cell_type": "markdown",
   "id": "a01317d1-705d-4f81-b33d-b1c3da343f59",
   "metadata": {},
   "source": [
    "### 6. Okay, I know all of this now. What should I do next?\n",
    "\n",
    "Right now, you are learning the foundational skills for a career involving Natural Language Processing. Focus on your learning, and imagine yourself in different roles. We recommend performing a [job search](https://career-resource-center.udacity.com/job-boards) to see what's out there.\n",
    "\n",
    "We'll help you get started. We searched for \"Natural Language Processing\" jobs worldwide on LinkedIn. Click the button below to see the search results. Change your search terms and apply filters. Once you have an idea of which jobs or companies you may be interested in, read about the companies or find personal blogs by people working in those roles. You can even reach out to people for [informational interviews](https://career-resource-center.udacity.com/networking/informational-interviews)."
   ]
  },
  {
   "cell_type": "markdown",
   "id": "2bcb55c4-3f11-49cd-b4c9-bb58e1ee38b5",
   "metadata": {},
   "source": [
    "### Notes about the Udacity Career Team & Portal\n",
    "\n",
    "Whatever your career goals are - whether it's finding a new job or learning more about an industry - Udacity is here to help you. You'll find in your Nanodegree program:\n",
    "\n",
    "* The **Udacity Career Portal**, a customized career track where you can see your step-by-step progress and get one-on-one feedback from experts along the way.\n",
    "* A **Professional Profile** to showcase your new skills, background, and career goals.\n",
    "* Career-focused projects to get **personalized feedback on your LinkedIn and GitHub profiles**. Increase your online presence and attract the attention of recruiters and collaborators, or just meet people with similar interests and grow your network.\n",
    "\n",
    "#### Career Service: No Resubmission Required\n",
    "\n",
    "In this Nanodegree program, you can get personalized feedback on your LinkedIn and GitHub profiles. **Unlike other Nanodegree projects, you submit to a Career Service once to get feedback and do not need to meet specifications to continue on in your program.**\n",
    "\n",
    "The value of Career Service reviews is not in meeting specifications on subjective rubric items, but in getting honest, personalized guidance from a Career Mentor. Learning from this guidance is what will guide you on the path to truly improving your job search materials.\n",
    "\n",
    "We highly encourage you to take advantage of this guidance. Most Alumni who report jobs and other opportunities (such as collaboration) attribute their success to networking."
   ]
  },
  {
   "cell_type": "code",
   "execution_count": null,
   "id": "a3f7459c-f931-4050-8e66-90e1406e5ba2",
   "metadata": {},
   "outputs": [],
   "source": []
  }
 ],
 "metadata": {
  "kernelspec": {
   "display_name": "Python 3",
   "language": "python",
   "name": "python3"
  },
  "language_info": {
   "codemirror_mode": {
    "name": "ipython",
    "version": 3
   },
   "file_extension": ".py",
   "mimetype": "text/x-python",
   "name": "python",
   "nbconvert_exporter": "python",
   "pygments_lexer": "ipython3",
   "version": "3.8.8"
  }
 },
 "nbformat": 4,
 "nbformat_minor": 5
}
