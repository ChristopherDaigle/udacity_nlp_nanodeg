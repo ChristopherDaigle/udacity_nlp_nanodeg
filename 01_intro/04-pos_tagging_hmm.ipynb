{
 "cells": [
  {
   "cell_type": "markdown",
   "id": "a4f4e034-7e52-4fd3-af70-34e01a38ed86",
   "metadata": {},
   "source": [
    "# Part of Speech (POS) Tagging with Hidden Markov Models (HMMs)\n",
    "\n",
    "In this lesson, we introduce **Hidden Markov Models (HMMs)**, which are used to model sequences (including time-series data).\n",
    "\n",
    "**HMMs** have been successfully used on both supervised and unsupervised problems with sequence data in applications like speech recognition, bioinformatics, sign language recognition, and gesture recognition.\n",
    "\n",
    "This lesson is closely related to the project at the end of this course, where you will use a **Hidden Markov Model (HMM)** to tag parts of speech in English sentences. This is a common pre-processing task in natural language processing."
   ]
  },
  {
   "cell_type": "code",
   "execution_count": null,
   "id": "f507b371-d7b7-490c-8a05-b5f2e9734a48",
   "metadata": {},
   "outputs": [],
   "source": []
  }
 ],
 "metadata": {
  "kernelspec": {
   "display_name": "venv_ud_nlp",
   "language": "python",
   "name": "venv_ud_nlp"
  },
  "language_info": {
   "codemirror_mode": {
    "name": "ipython",
    "version": 3
   },
   "file_extension": ".py",
   "mimetype": "text/x-python",
   "name": "python",
   "nbconvert_exporter": "python",
   "pygments_lexer": "ipython3",
   "version": "3.10.4"
  }
 },
 "nbformat": 4,
 "nbformat_minor": 5
}
