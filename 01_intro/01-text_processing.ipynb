{
 "cells": [
  {
   "cell_type": "markdown",
   "id": "fe64c03d-e4f5-45e6-8b71-2c281962906e",
   "metadata": {},
   "source": [
    "# Text Processing\n",
    "\n",
    "Here, we'll learn how to read text data from different sources and prepare it for feature extraction\n",
    "\n",
    "* [Udacity NLP Nanodegree Repository](https://github.com/udacity/cd0377-Introduction-to-Natural-Language-Processing)"
   ]
  },
  {
   "cell_type": "markdown",
   "id": "d79da5d5-df22-425e-b637-ba106a090a06",
   "metadata": {},
   "source": [
    "ASIDE: Working with Udacity GPU Enabled Notebooks\n",
    "\n",
    "Context Manager Example:\n",
    "```python\n",
    "from workspace_utils import active_session\n",
    "\n",
    "with active_session():\n",
    "    # do long-running work here\n",
    "```\n",
    "\n",
    "Iterator Wrapper Example:\n",
    "```python\n",
    "from workspace_utils import keep_awake\n",
    "\n",
    "for i in keep_awake(range(5)):\n",
    "    # do iteration with lots of work here\n",
    "```\n",
    "\n",
    "Reference Module - `workspace_utils.py`:\n",
    "```python\n",
    "import signal\n",
    "\n",
    "from contextlib import contextmanager\n",
    "\n",
    "import requests\n",
    "\n",
    "\n",
    "DELAY = INTERVAL = 4 * 60  # interval time in seconds\n",
    "MIN_DELAY = MIN_INTERVAL = 2 * 60\n",
    "KEEPALIVE_URL = \"https://nebula.udacity.com/api/v1/remote/keep-alive\"\n",
    "TOKEN_URL = \"http://metadata.google.internal/computeMetadata/v1/instance/attributes/keep_alive_token\"\n",
    "TOKEN_HEADERS = {\"Metadata-Flavor\":\"Google\"}\n",
    "\n",
    "\n",
    "def _request_handler(headers):\n",
    "    def _handler(signum, frame):\n",
    "        requests.request(\"POST\", KEEPALIVE_URL, headers=headers)\n",
    "    return _handler\n",
    "\n",
    "\n",
    "@contextmanager\n",
    "def active_session(delay=DELAY, interval=INTERVAL):\n",
    "    \"\"\"\n",
    "    Example:\n",
    "\n",
    "    from workspace_utils import active session\n",
    "\n",
    "    with active_session():\n",
    "        # do long-running work here\n",
    "    \"\"\"\n",
    "    token = requests.request(\"GET\", TOKEN_URL, headers=TOKEN_HEADERS).text\n",
    "    headers = {'Authorization': \"STAR \" + token}\n",
    "    delay = max(delay, MIN_DELAY)\n",
    "    interval = max(interval, MIN_INTERVAL)\n",
    "    original_handler = signal.getsignal(signal.SIGALRM)\n",
    "    try:\n",
    "        signal.signal(signal.SIGALRM, _request_handler(headers))\n",
    "        signal.setitimer(signal.ITIMER_REAL, delay, interval)\n",
    "        yield\n",
    "    finally:\n",
    "        signal.signal(signal.SIGALRM, original_handler)\n",
    "        signal.setitimer(signal.ITIMER_REAL, 0)\n",
    "\n",
    "\n",
    "def keep_awake(iterable, delay=DELAY, interval=INTERVAL):\n",
    "    \"\"\"\n",
    "    Example:\n",
    "\n",
    "    from workspace_utils import keep_awake\n",
    "\n",
    "    for i in keep_awake(range(5)):\n",
    "        # do iteration with lots of work here\n",
    "    \"\"\"\n",
    "    with active_session(delay, interval): yield from iterable\n",
    "```"
   ]
  },
  {
   "cell_type": "markdown",
   "id": "c4364103-25d1-4558-90af-5430020d209d",
   "metadata": {},
   "source": [
    "# Capturing Text Data\n",
    "\n",
    "The processing stage begins with reading text data.\n",
    "\n",
    "Common sources:\n",
    "1. Plain text file on your local machine that can be read with the Python's `with open()` builtin\n",
    "2. CSV that can be read in using Pandas\n",
    "3. Online data accessed via an API (application programming interface)"
   ]
  },
  {
   "cell_type": "markdown",
   "id": "63604ee9-2425-42e6-87d3-87adfd08c33f",
   "metadata": {},
   "source": [
    "## Exercise on Text Processing:\n",
    "\n",
    "1. Plain Text"
   ]
  },
  {
   "cell_type": "code",
   "execution_count": 1,
   "id": "4514591e-fb7d-4f25-bb5f-5448ff8000dc",
   "metadata": {},
   "outputs": [],
   "source": [
    "ud_folder = 'cd0377-Introduction-to-Natural-Language-Processing'"
   ]
  },
  {
   "cell_type": "code",
   "execution_count": 2,
   "id": "c1435e8c-307e-4e1a-84b7-5a58f6535c31",
   "metadata": {},
   "outputs": [],
   "source": [
    "import sys\n",
    "from pathlib import Path\n",
    "import os\n",
    "import nltk\n",
    "import pandas as pd\n",
    "import requests\n",
    "import json\n",
    "import re\n",
    "from bs4 import BeautifulSoup"
   ]
  },
  {
   "cell_type": "code",
   "execution_count": 3,
   "id": "88cc05f1-3f6c-4507-9997-72158fb9d416",
   "metadata": {},
   "outputs": [],
   "source": [
    "dir_items = ['cd0377-Introduction-to-Natural-Language-Processing']\n",
    "data_path = Path.cwd().parents[0].joinpath(*dir_items)\n",
    "sys.path.append(data_path)"
   ]
  },
  {
   "cell_type": "code",
   "execution_count": 4,
   "id": "3f9af366-23fd-4263-8ead-6cbbc6d95ae7",
   "metadata": {},
   "outputs": [
    {
     "name": "stdout",
     "output_type": "stream",
     "text": [
      "Hieroglyphic writing dates from c. 3000 BC, and is composed of hundreds of symbols. A hieroglyph can represent a word, a sound, or a silent determinative; and the same symbol can serve different purposes in different contexts. Hieroglyphs were a formal script, used on stone monuments and in tombs, that could be as detailed as individual works of art.\n",
      "\n"
     ]
    }
   ],
   "source": [
    "dir_items = [ud_folder, 'data', 'hieroglyph.txt']\n",
    "data_path = Path.cwd().parents[0].joinpath(*dir_items)\n",
    "with open(data_path, 'r') as f:\n",
    "    text = f.read()\n",
    "print(text)"
   ]
  },
  {
   "cell_type": "markdown",
   "id": "60b1defe-41aa-44e2-bf14-d0ed98eecd18",
   "metadata": {},
   "source": [
    "2. Tabular Data"
   ]
  },
  {
   "cell_type": "code",
   "execution_count": 5,
   "id": "31aaaf4d-3a20-4a7d-9be6-7cb87674409a",
   "metadata": {},
   "outputs": [
    {
     "data": {
      "text/html": [
       "<div>\n",
       "<style scoped>\n",
       "    .dataframe tbody tr th:only-of-type {\n",
       "        vertical-align: middle;\n",
       "    }\n",
       "\n",
       "    .dataframe tbody tr th {\n",
       "        vertical-align: top;\n",
       "    }\n",
       "\n",
       "    .dataframe thead th {\n",
       "        text-align: right;\n",
       "    }\n",
       "</style>\n",
       "<table border=\"1\" class=\"dataframe\">\n",
       "  <thead>\n",
       "    <tr style=\"text-align: right;\">\n",
       "      <th></th>\n",
       "      <th>publisher</th>\n",
       "      <th>title</th>\n",
       "    </tr>\n",
       "  </thead>\n",
       "  <tbody>\n",
       "    <tr>\n",
       "      <th>0</th>\n",
       "      <td>Livemint</td>\n",
       "      <td>Fed's Charles Plosser sees high bar for change...</td>\n",
       "    </tr>\n",
       "    <tr>\n",
       "      <th>1</th>\n",
       "      <td>IFA Magazine</td>\n",
       "      <td>US open: Stocks fall after Fed official hints ...</td>\n",
       "    </tr>\n",
       "    <tr>\n",
       "      <th>2</th>\n",
       "      <td>IFA Magazine</td>\n",
       "      <td>Fed risks falling 'behind the curve', Charles ...</td>\n",
       "    </tr>\n",
       "    <tr>\n",
       "      <th>3</th>\n",
       "      <td>Moneynews</td>\n",
       "      <td>Fed's Plosser: Nasty Weather Has Curbed Job Gr...</td>\n",
       "    </tr>\n",
       "    <tr>\n",
       "      <th>4</th>\n",
       "      <td>NASDAQ</td>\n",
       "      <td>Plosser: Fed May Have to Accelerate Tapering Pace</td>\n",
       "    </tr>\n",
       "  </tbody>\n",
       "</table>\n",
       "</div>"
      ],
      "text/plain": [
       "      publisher                                              title\n",
       "0      Livemint  Fed's Charles Plosser sees high bar for change...\n",
       "1  IFA Magazine  US open: Stocks fall after Fed official hints ...\n",
       "2  IFA Magazine  Fed risks falling 'behind the curve', Charles ...\n",
       "3     Moneynews  Fed's Plosser: Nasty Weather Has Curbed Job Gr...\n",
       "4        NASDAQ  Plosser: Fed May Have to Accelerate Tapering Pace"
      ]
     },
     "metadata": {},
     "output_type": "display_data"
    },
    {
     "name": "stdout",
     "output_type": "stream",
     "text": [
      "\n",
      "Convert text column to lowercase\n"
     ]
    },
    {
     "data": {
      "text/html": [
       "<div>\n",
       "<style scoped>\n",
       "    .dataframe tbody tr th:only-of-type {\n",
       "        vertical-align: middle;\n",
       "    }\n",
       "\n",
       "    .dataframe tbody tr th {\n",
       "        vertical-align: top;\n",
       "    }\n",
       "\n",
       "    .dataframe thead th {\n",
       "        text-align: right;\n",
       "    }\n",
       "</style>\n",
       "<table border=\"1\" class=\"dataframe\">\n",
       "  <thead>\n",
       "    <tr style=\"text-align: right;\">\n",
       "      <th></th>\n",
       "      <th>publisher</th>\n",
       "      <th>title</th>\n",
       "    </tr>\n",
       "  </thead>\n",
       "  <tbody>\n",
       "    <tr>\n",
       "      <th>0</th>\n",
       "      <td>Livemint</td>\n",
       "      <td>fed's charles plosser sees high bar for change...</td>\n",
       "    </tr>\n",
       "    <tr>\n",
       "      <th>1</th>\n",
       "      <td>IFA Magazine</td>\n",
       "      <td>us open: stocks fall after fed official hints ...</td>\n",
       "    </tr>\n",
       "    <tr>\n",
       "      <th>2</th>\n",
       "      <td>IFA Magazine</td>\n",
       "      <td>fed risks falling 'behind the curve', charles ...</td>\n",
       "    </tr>\n",
       "    <tr>\n",
       "      <th>3</th>\n",
       "      <td>Moneynews</td>\n",
       "      <td>fed's plosser: nasty weather has curbed job gr...</td>\n",
       "    </tr>\n",
       "    <tr>\n",
       "      <th>4</th>\n",
       "      <td>NASDAQ</td>\n",
       "      <td>plosser: fed may have to accelerate tapering pace</td>\n",
       "    </tr>\n",
       "  </tbody>\n",
       "</table>\n",
       "</div>"
      ],
      "text/plain": [
       "      publisher                                              title\n",
       "0      Livemint  fed's charles plosser sees high bar for change...\n",
       "1  IFA Magazine  us open: stocks fall after fed official hints ...\n",
       "2  IFA Magazine  fed risks falling 'behind the curve', charles ...\n",
       "3     Moneynews  fed's plosser: nasty weather has curbed job gr...\n",
       "4        NASDAQ  plosser: fed may have to accelerate tapering pace"
      ]
     },
     "metadata": {},
     "output_type": "display_data"
    }
   ],
   "source": [
    "dir_items = [ud_folder, 'data', 'news.csv']\n",
    "data_path = Path.cwd().parents[0].joinpath(*dir_items)\n",
    "df = pd.read_csv(data_path)\n",
    "display(df[['publisher', 'title']].head())\n",
    "print()\n",
    "print(\"Convert text column to lowercase\")\n",
    "df['title'] = df['title'].str.lower()\n",
    "display(df[['publisher', 'title']].head())"
   ]
  },
  {
   "cell_type": "markdown",
   "id": "29e8f77c-4f5c-4ee5-b281-14c2d2c467ad",
   "metadata": {},
   "source": [
    "3. Online Source"
   ]
  },
  {
   "cell_type": "code",
   "execution_count": 7,
   "id": "82f25996-c118-448a-9907-8b9f9710ae88",
   "metadata": {},
   "outputs": [
    {
     "name": "stderr",
     "output_type": "stream",
     "text": [
      "/Users/daiglechris/Git/udacity_nlp_nanodeg/venv_ud_nlp/lib/python3.8/site-packages/urllib3/connectionpool.py:1045: InsecureRequestWarning: Unverified HTTPS request is being made to host 'quotes.rest'. Adding certificate verification is strongly advised. See: https://urllib3.readthedocs.io/en/1.26.x/advanced-usage.html#ssl-warnings\n",
      "  warnings.warn(\n"
     ]
    },
    {
     "name": "stdout",
     "output_type": "stream",
     "text": [
      "{\n",
      "    \"success\": {\n",
      "        \"total\": 1\n",
      "    },\n",
      "    \"contents\": {\n",
      "        \"quotes\": [\n",
      "            {\n",
      "                \"quote\": \"The determination to win is the better part of winning.\",\n",
      "                \"length\": \"55\",\n",
      "                \"author\": \"Daisaku Ikeda\",\n",
      "                \"tags\": {\n",
      "                    \"0\": \"buddhism\",\n",
      "                    \"1\": \"determination\",\n",
      "                    \"2\": \"doingyourbest\",\n",
      "                    \"3\": \"humanism\",\n",
      "                    \"4\": \"inspire\",\n",
      "                    \"6\": \"winning\"\n",
      "                },\n",
      "                \"category\": \"inspire\",\n",
      "                \"language\": \"en\",\n",
      "                \"date\": \"2022-08-30\",\n",
      "                \"permalink\": \"https://theysaidso.com/quote/daisaku-ikeda-the-determination-to-win-is-the-better-part-of-winning\",\n",
      "                \"id\": \"N8DuJUQlTaAm_hHViB2sTAeF\",\n",
      "                \"background\": \"https://theysaidso.com/img/qod/qod-inspire.jpg\",\n",
      "                \"title\": \"Inspiring Quote of the day\"\n",
      "            }\n",
      "        ]\n",
      "    },\n",
      "    \"baseurl\": \"https://theysaidso.com\",\n",
      "    \"copyright\": {\n",
      "        \"year\": 2024,\n",
      "        \"url\": \"https://theysaidso.com\"\n",
      "    }\n",
      "}\n",
      "\n",
      "Get the quote of the day and the author\n",
      "The determination to win is the better part of winning. \n",
      "-- Daisaku Ikeda\n"
     ]
    }
   ],
   "source": [
    "r = requests.get('https://quotes.rest/qod.json', verify=False)\n",
    "res = r.json()\n",
    "print(json.dumps(res, indent=4))\n",
    "print()\n",
    "print(\"Get the quote of the day and the author\")\n",
    "qod_obj = res[\"contents\"][\"quotes\"][0]\n",
    "qod = qod_obj['quote']\n",
    "auth = qod_obj['author']\n",
    "print(qod, \"\\n--\", auth)"
   ]
  },
  {
   "cell_type": "markdown",
   "id": "d40f2767-9738-4f4e-b15f-aa0591ba8a6a",
   "metadata": {},
   "source": [
    "4. Cleaning"
   ]
  },
  {
   "cell_type": "code",
   "execution_count": 8,
   "id": "8cd91c1a-6dd1-44b8-8d1b-9b8627b93f9e",
   "metadata": {
    "scrolled": true,
    "tags": []
   },
   "outputs": [
    {
     "name": "stdout",
     "output_type": "stream",
     "text": [
      "<html lang=\"en\" op=\"news\"><head><meta name=\"referrer\" content=\"origin\"><meta name=\"viewport\" content=\"width=device-width, initial-scale=1.0\"><link rel=\"stylesheet\" type=\"text/css\" href=\"news.css?CC3O3g8R3a6BgIE1hihI\">\n",
      "        <link rel=\"shortcut icon\" href=\"favicon.ico\">\n",
      "          <link rel=\"alternate\" type=\"application/rss+xml\" title=\"RSS\" href=\"rss\">\n",
      "        <title>Hacker News</title></head><body><center><table id=\"hnmain\" border=\"0\" cellpadding=\"0\" cellspacing=\"0\" width=\"85%\" bgcolor=\"#f6f6ef\">\n",
      "        <tr><td bgcolor=\"#ff6600\"><table border=\"0\" cellpadding=\"0\" cellspacing=\"0\" width=\"100%\" style=\"padding:2px\"><tr><td style=\"width:18px;padding-right:4px\"><a href=\"https://news.ycombinator.com\"><img src=\"y18.gif\" width=\"18\" height=\"18\" style=\"border:1px white solid;\"></a></td>\n",
      "                  <td style=\"line-height:12pt; height:10px;\"><span class=\"pagetop\"><b class=\"hnname\"><a href=\"news\">Hacker News</a></b>\n",
      "                            <a href=\"newest\">new</a> | <a href=\"front\">past</a> | <a href=\"newcomments\">comments</a> | <a href=\"ask\">ask</a> | <a href=\"show\">show</a> | <a href=\"jobs\">jobs</a> | <a href=\"submit\">submit</a>            </span></td><td style=\"text-align:right;padding-right:4px;\"><span class=\"pagetop\">\n",
      "                              <a href=\"login?goto=news\">login</a>\n",
      "                          </span></td>\n",
      "              </tr></table></td></tr>\n",
      "<tr id=\"pagespace\" title=\"\" style=\"height:10px\"></tr><tr><td><table border=\"0\" cellpadding=\"0\" cellspacing=\"0\" class=\"itemlist\">\n",
      "              <tr class='athing' id='32641028'>\n",
      "      <td align=\"right\" valign=\"top\" class=\"title\"><span class=\"rank\">1.</span></td>      <td valign=\"top\" class=\"votelinks\"><center><a id='up_32641028'href='vote?id=32641028&amp;how=up&amp;goto=news'><div class='votearrow' title='upvote'></div></a></center></td><td class=\"title\"><a href=\"https://pudding.cool/2022/08/censorship/\" class=\"titlelink\">The Big [Censored] Theory</a><span class=\"sitebit comhead\"> (<a href=\"from?site=pudding.cool\"><span class=\"sitestr\">pudding.cool</span></a>)</span></td></tr><tr><td colspan=\"2\"></td><td class=\"subtext\">\n",
      "        <span class=\"score\" id=\"score_32641028\">811 points</span> by <a href=\"user?id=feross\" class=\"hnuser\">feross</a> <span class=\"age\" title=\"2022-08-29T17:34:36\"><a href=\"item?id=32641028\">7 hours ago</a></span> <span id=\"unv_32641028\"></span> | <a href=\"hide?id=32641028&amp;goto=news\">hide</a> | <a href=\"item?id=32641028\">464&nbsp;comments</a>              </td></tr>\n",
      "      <tr class=\"spacer\" style=\"height:5px\"></tr>\n",
      "                <tr class='athing' id='32643564'>\n",
      "      <td align=\"right\" valign=\"top\" class=\"title\"><span class=\"rank\">2.</span></td>      <td valign=\"top\" class=\"votelinks\"><center><a id='up_32643564'href='vote?id=32643564&amp;how=up&amp;goto=news'><div class='votearrow' title='upvote'></div></a></center></td><td class=\"title\"><a href=\"https://github.com/hlky/sd-enable-textual-inversion\" class=\"titlelink\">Stable Diffusion Textual Inversion</a><span class=\"sitebit comhead\"> (<a href=\"from?site=github.com/hlky\"><span class=\"sitestr\">github.com/hlky</span></a>)</span></td></tr><tr><td colspan=\"2\"></td><td class=\"subtext\">\n",
      "        <span class=\"score\" id=\"score_32643564\">161 points</span> by <a href=\"user?id=antman\" class=\"hnuser\">antman</a> <span class=\"age\" title=\"2022-08-29T21:08:00\"><a href=\"item?id=32643564\">3 hours ago</a></span> <span id=\"unv_32643564\"></span> | <a href=\"hide?id=32643564&amp;goto=news\">hide</a> | <a href=\"item?id=32643564\">73&nbsp;comments</a>              </td></tr>\n",
      "      <tr class=\"spacer\" style=\"height:5px\"></tr>\n",
      "                <tr class='athing' id='32640733'>\n",
      "      <td align=\"right\" valign=\"top\" class=\"title\"><span class=\"rank\">3.</span></td>      <td valign=\"top\" class=\"votelinks\"><center><a id='up_32640733'href='vote?id=32640733&amp;how=up&amp;goto=news'><div class='votearrow' title='upvote'></div></a></center></td><td class=\"title\"><a href=\"https://tholman.com/cursor-effects/\" class=\"titlelink\">90s Cursor Effects</a><span class=\"sitebit comhead\"> (<a href=\"from?site=tholman.com\"><span class=\"sitestr\">tholman.com</span></a>)</span></td></tr><tr><td colspan=\"2\"></td><td class=\"subtext\">\n",
      "        <span class=\"score\" id=\"score_32640733\">353 points</span> by <a href=\"user?id=lysergia\" class=\"hnuser\">lysergia</a> <span class=\"age\" title=\"2022-08-29T17:12:33\"><a href=\"item?id=32640733\">7 hours ago</a></span> <span id=\"unv_32640733\"></span> | <a href=\"hide?id=32640733&amp;goto=news\">hide</a> | <a href=\"item?id=32640733\">119&nbsp;comments</a>              </td></tr>\n",
      "      <tr class=\"spacer\" style=\"height:5px\"></tr>\n",
      "                <tr class='athing' id='32628196'>\n",
      "      <td align=\"right\" valign=\"top\" class=\"title\"><span class=\"rank\">4.</span></td>      <td valign=\"top\" class=\"votelinks\"><center><a id='up_32628196'href='vote?id=32628196&amp;how=up&amp;goto=news'><div class='votearrow' title='upvote'></div></a></center></td><td class=\"title\"><a href=\"https://herbertlui.net/dont-think-to-write-write-to-think/\" class=\"titlelink\">Don’t think to write, write to think</a><span class=\"sitebit comhead\"> (<a href=\"from?site=herbertlui.net\"><span class=\"sitestr\">herbertlui.net</span></a>)</span></td></tr><tr><td colspan=\"2\"></td><td class=\"subtext\">\n",
      "        <span class=\"score\" id=\"score_32628196\">104 points</span> by <a href=\"user?id=herbertl\" class=\"hnuser\">herbertl</a> <span class=\"age\" title=\"2022-08-28T13:21:22\"><a href=\"item?id=32628196\">4 hours ago</a></span> <span id=\"unv_32628196\"></span> | <a href=\"hide?id=32628196&amp;goto=news\">hide</a> | <a href=\"item?id=32628196\">34&nbsp;comments</a>              </td></tr>\n",
      "      <tr class=\"spacer\" style=\"height:5px\"></tr>\n",
      "                <tr class='athing' id='32644277'>\n",
      "      <td align=\"right\" valign=\"top\" class=\"title\"><span class=\"rank\">5.</span></td>      <td valign=\"top\" class=\"votelinks\"><center><a id='up_32644277'href='vote?id=32644277&amp;how=up&amp;goto=news'><div class='votearrow' title='upvote'></div></a></center></td><td class=\"title\"><a href=\"https://tomlingham.com/articles/why-are-you-so-busy/\" class=\"titlelink\">Why are you so busy?</a><span class=\"sitebit comhead\"> (<a href=\"from?site=tomlingham.com\"><span class=\"sitestr\">tomlingham.com</span></a>)</span></td></tr><tr><td colspan=\"2\"></td><td class=\"subtext\">\n",
      "        <span class=\"score\" id=\"score_32644277\">56 points</span> by <a href=\"user?id=tjlingham\" class=\"hnuser\">tjlingham</a> <span class=\"age\" title=\"2022-08-29T22:17:34\"><a href=\"item?id=32644277\">2 hours ago</a></span> <span id=\"unv_32644277\"></span> | <a href=\"hide?id=32644277&amp;goto=news\">hide</a> | <a href=\"item?id=32644277\">18&nbsp;comments</a>              </td></tr>\n",
      "      <tr class=\"spacer\" style=\"height:5px\"></tr>\n",
      "                <tr class='athing' id='32637686'>\n",
      "      <td align=\"right\" valign=\"top\" class=\"title\"><span class=\"rank\">6.</span></td>      <td valign=\"top\" class=\"votelinks\"><center><a id='up_32637686'href='vote?id=32637686&amp;how=up&amp;goto=news'><div class='votearrow' title='upvote'></div></a></center></td><td class=\"title\"><a href=\"https://www.ycombinator.com/blog/welcome-home-garry-tan/\" class=\"titlelink\">Welcome Home, Garry Tan</a><span class=\"sitebit comhead\"> (<a href=\"from?site=ycombinator.com\"><span class=\"sitestr\">ycombinator.com</span></a>)</span></td></tr><tr><td colspan=\"2\"></td><td class=\"subtext\">\n",
      "        <span class=\"score\" id=\"score_32637686\">614 points</span> by <a href=\"user?id=todsacerdoti\" class=\"hnuser\">todsacerdoti</a> <span class=\"age\" title=\"2022-08-29T13:04:44\"><a href=\"item?id=32637686\">12 hours ago</a></span> <span id=\"unv_32637686\"></span> | <a href=\"hide?id=32637686&amp;goto=news\">hide</a> | <a href=\"item?id=32637686\">214&nbsp;comments</a>              </td></tr>\n",
      "      <tr class=\"spacer\" style=\"height:5px\"></tr>\n",
      "                <tr class='athing' id='32643152'>\n",
      "      <td align=\"right\" valign=\"top\" class=\"title\"><span class=\"rank\">7.</span></td>      <td valign=\"top\" class=\"votelinks\"><center><a id='up_32643152'href='vote?id=32643152&amp;how=up&amp;goto=news'><div class='votearrow' title='upvote'></div></a></center></td><td class=\"title\"><a href=\"http://microformats.org/wiki/Main_Page\" class=\"titlelink\">Microformats Wiki</a><span class=\"sitebit comhead\"> (<a href=\"from?site=microformats.org\"><span class=\"sitestr\">microformats.org</span></a>)</span></td></tr><tr><td colspan=\"2\"></td><td class=\"subtext\">\n",
      "        <span class=\"score\" id=\"score_32643152\">72 points</span> by <a href=\"user?id=Tomte\" class=\"hnuser\">Tomte</a> <span class=\"age\" title=\"2022-08-29T20:30:55\"><a href=\"item?id=32643152\">4 hours ago</a></span> <span id=\"unv_32643152\"></span> | <a href=\"hide?id=32643152&amp;goto=news\">hide</a> | <a href=\"item?id=32643152\">21&nbsp;comments</a>              </td></tr>\n",
      "      <tr class=\"spacer\" style=\"height:5px\"></tr>\n",
      "                <tr class='athing' id='32642255'>\n",
      "      <td align=\"right\" valign=\"top\" class=\"title\"><span class=\"rank\">8.</span></td>      <td valign=\"top\" class=\"votelinks\"><center><a id='up_32642255'href='vote?id=32642255&amp;how=up&amp;goto=news'><div class='votearrow' title='upvote'></div></a></center></td><td class=\"title\"><a href=\"https://github.com/bes-dev/stable_diffusion.openvino\" class=\"titlelink\">Run Stable Diffusion on Intel CPUs</a><span class=\"sitebit comhead\"> (<a href=\"from?site=github.com/bes-dev\"><span class=\"sitestr\">github.com/bes-dev</span></a>)</span></td></tr><tr><td colspan=\"2\"></td><td class=\"subtext\">\n",
      "        <span class=\"score\" id=\"score_32642255\">114 points</span> by <a href=\"user?id=amrrs\" class=\"hnuser\">amrrs</a> <span class=\"age\" title=\"2022-08-29T19:13:23\"><a href=\"item?id=32642255\">5 hours ago</a></span> <span id=\"unv_32642255\"></span> | <a href=\"hide?id=32642255&amp;goto=news\">hide</a> | <a href=\"item?id=32642255\">43&nbsp;comments</a>              </td></tr>\n",
      "      <tr class=\"spacer\" style=\"height:5px\"></tr>\n",
      "                <tr class='athing' id='32637996'>\n",
      "      <td align=\"right\" valign=\"top\" class=\"title\"><span class=\"rank\">9.</span></td>      <td valign=\"top\" class=\"votelinks\"><center><a id='up_32637996'href='vote?id=32637996&amp;how=up&amp;goto=news'><div class='votearrow' title='upvote'></div></a></center></td><td class=\"title\"><a href=\"https://ktool.io/hacker-news-to-kindle\" class=\"titlelink\">Show HN: I built a tool to help you read Hacker News on Kindle</a><span class=\"sitebit comhead\"> (<a href=\"from?site=ktool.io\"><span class=\"sitestr\">ktool.io</span></a>)</span></td></tr><tr><td colspan=\"2\"></td><td class=\"subtext\">\n",
      "        <span class=\"score\" id=\"score_32637996\">312 points</span> by <a href=\"user?id=longnguyen\" class=\"hnuser\">longnguyen</a> <span class=\"age\" title=\"2022-08-29T13:31:55\"><a href=\"item?id=32637996\">11 hours ago</a></span> <span id=\"unv_32637996\"></span> | <a href=\"hide?id=32637996&amp;goto=news\">hide</a> | <a href=\"item?id=32637996\">56&nbsp;comments</a>              </td></tr>\n",
      "      <tr class=\"spacer\" style=\"height:5px\"></tr>\n",
      "                <tr class='athing' id='32645063'>\n",
      "      <td align=\"right\" valign=\"top\" class=\"title\"><span class=\"rank\">10.</span></td>      <td valign=\"top\" class=\"votelinks\"><center><a id='up_32645063'href='vote?id=32645063&amp;how=up&amp;goto=news'><div class='votearrow' title='upvote'></div></a></center></td><td class=\"title\"><a href=\"https://github.com/brendanartley/Regressio\" class=\"titlelink\">Python library for univariate regression, interpolation, and smoothing</a><span class=\"sitebit comhead\"> (<a href=\"from?site=github.com/brendanartley\"><span class=\"sitestr\">github.com/brendanartley</span></a>)</span></td></tr><tr><td colspan=\"2\"></td><td class=\"subtext\">\n",
      "        <span class=\"score\" id=\"score_32645063\">9 points</span> by <a href=\"user?id=codeboy7432\" class=\"hnuser\">codeboy7432</a> <span class=\"age\" title=\"2022-08-29T23:58:48\"><a href=\"item?id=32645063\">1 hour ago</a></span> <span id=\"unv_32645063\"></span> | <a href=\"hide?id=32645063&amp;goto=news\">hide</a> | <a href=\"item?id=32645063\">5&nbsp;comments</a>              </td></tr>\n",
      "      <tr class=\"spacer\" style=\"height:5px\"></tr>\n",
      "                <tr class='athing' id='32627396'>\n",
      "      <td align=\"right\" valign=\"top\" class=\"title\"><span class=\"rank\">11.</span></td>      <td valign=\"top\" class=\"votelinks\"><center><a id='up_32627396'href='vote?id=32627396&amp;how=up&amp;goto=news'><div class='votearrow' title='upvote'></div></a></center></td><td class=\"title\"><a href=\"https://www.youtube.com/watch?v=39wzku9KIEM\" class=\"titlelink\">The Peter Principle (1974) [video]</a><span class=\"sitebit comhead\"> (<a href=\"from?site=youtube.com\"><span class=\"sitestr\">youtube.com</span></a>)</span></td></tr><tr><td colspan=\"2\"></td><td class=\"subtext\">\n",
      "        <span class=\"score\" id=\"score_32627396\">19 points</span> by <a href=\"user?id=nyc111\" class=\"hnuser\">nyc111</a> <span class=\"age\" title=\"2022-08-28T11:05:00\"><a href=\"item?id=32627396\">3 hours ago</a></span> <span id=\"unv_32627396\"></span> | <a href=\"hide?id=32627396&amp;goto=news\">hide</a> | <a href=\"item?id=32627396\">11&nbsp;comments</a>              </td></tr>\n",
      "      <tr class=\"spacer\" style=\"height:5px\"></tr>\n",
      "                <tr class='athing' id='32639000'>\n",
      "      <td align=\"right\" valign=\"top\" class=\"title\"><span class=\"rank\">12.</span></td>      <td valign=\"top\" class=\"votelinks\"><center><a id='up_32639000'href='vote?id=32639000&amp;how=up&amp;goto=news'><div class='votearrow' title='upvote'></div></a></center></td><td class=\"title\"><a href=\"https://github.com/aguaviva/articles/blob/main/why_12_notes.ipynb\" class=\"titlelink\">Why 12 notes in Western music?</a><span class=\"sitebit comhead\"> (<a href=\"from?site=github.com/aguaviva\"><span class=\"sitestr\">github.com/aguaviva</span></a>)</span></td></tr><tr><td colspan=\"2\"></td><td class=\"subtext\">\n",
      "        <span class=\"score\" id=\"score_32639000\">176 points</span> by <a href=\"user?id=xchip\" class=\"hnuser\">xchip</a> <span class=\"age\" title=\"2022-08-29T14:51:22\"><a href=\"item?id=32639000\">10 hours ago</a></span> <span id=\"unv_32639000\"></span> | <a href=\"hide?id=32639000&amp;goto=news\">hide</a> | <a href=\"item?id=32639000\">112&nbsp;comments</a>              </td></tr>\n",
      "      <tr class=\"spacer\" style=\"height:5px\"></tr>\n",
      "                <tr class='athing' id='32641769'>\n",
      "      <td align=\"right\" valign=\"top\" class=\"title\"><span class=\"rank\">13.</span></td>      <td valign=\"top\" class=\"votelinks\"><center><a id='up_32641769'href='vote?id=32641769&amp;how=up&amp;goto=news'><div class='votearrow' title='upvote'></div></a></center></td><td class=\"title\"><a href=\"https://exafunction.com/blog/are-gpus-worth-it\" class=\"titlelink\">Are GPUs Worth It for ML?</a><span class=\"sitebit comhead\"> (<a href=\"from?site=exafunction.com\"><span class=\"sitestr\">exafunction.com</span></a>)</span></td></tr><tr><td colspan=\"2\"></td><td class=\"subtext\">\n",
      "        <span class=\"score\" id=\"score_32641769\">94 points</span> by <a href=\"user?id=varunkmohan\" class=\"hnuser\">varunkmohan</a> <span class=\"age\" title=\"2022-08-29T18:34:08\"><a href=\"item?id=32641769\">6 hours ago</a></span> <span id=\"unv_32641769\"></span> | <a href=\"hide?id=32641769&amp;goto=news\">hide</a> | <a href=\"item?id=32641769\">66&nbsp;comments</a>              </td></tr>\n",
      "      <tr class=\"spacer\" style=\"height:5px\"></tr>\n",
      "                <tr class='athing' id='32643498'>\n",
      "      <td align=\"right\" valign=\"top\" class=\"title\"><span class=\"rank\">14.</span></td>      <td></td><td class=\"title\"><a href=\"https://www.easypost.com/careers\" class=\"titlelink\" rel=\"nofollow\">EasyPost (YC S13) Is Hiring</a><span class=\"sitebit comhead\"> (<a href=\"from?site=easypost.com\"><span class=\"sitestr\">easypost.com</span></a>)</span></td></tr><tr><td colspan=\"2\"></td><td class=\"subtext\">\n",
      "        <span class=\"age\" title=\"2022-08-29T21:01:15\"><a href=\"item?id=32643498\">4 hours ago</a></span> | <a href=\"hide?id=32643498&amp;goto=news\">hide</a>      </td></tr>\n",
      "      <tr class=\"spacer\" style=\"height:5px\"></tr>\n",
      "                <tr class='athing' id='32638667'>\n",
      "      <td align=\"right\" valign=\"top\" class=\"title\"><span class=\"rank\">15.</span></td>      <td valign=\"top\" class=\"votelinks\"><center><a id='up_32638667'href='vote?id=32638667&amp;how=up&amp;goto=news'><div class='votearrow' title='upvote'></div></a></center></td><td class=\"title\"><a href=\"https://www.jonashietala.se/blog/2022/08/29/rewriting_my_blog_in_rust_for_fun_and_profit/\" class=\"titlelink\">Rewriting my blog in Rust for fun and profit</a><span class=\"sitebit comhead\"> (<a href=\"from?site=jonashietala.se\"><span class=\"sitestr\">jonashietala.se</span></a>)</span></td></tr><tr><td colspan=\"2\"></td><td class=\"subtext\">\n",
      "        <span class=\"score\" id=\"score_32638667\">169 points</span> by <a href=\"user?id=lawn\" class=\"hnuser\">lawn</a> <span class=\"age\" title=\"2022-08-29T14:24:19\"><a href=\"item?id=32638667\">10 hours ago</a></span> <span id=\"unv_32638667\"></span> | <a href=\"hide?id=32638667&amp;goto=news\">hide</a> | <a href=\"item?id=32638667\">78&nbsp;comments</a>              </td></tr>\n",
      "      <tr class=\"spacer\" style=\"height:5px\"></tr>\n",
      "                <tr class='athing' id='32642768'>\n",
      "      <td align=\"right\" valign=\"top\" class=\"title\"><span class=\"rank\">16.</span></td>      <td valign=\"top\" class=\"votelinks\"><center><a id='up_32642768'href='vote?id=32642768&amp;how=up&amp;goto=news'><div class='votearrow' title='upvote'></div></a></center></td><td class=\"title\"><a href=\"https://community.arm.com/arm-community-blogs/b/infrastructure-solutions-blog/posts/porting-x86-vector-bitmask-optimizations-to-arm-neon\" class=\"titlelink\">Bit twiddling with Arm Neon: beating SSE movemasks, counting bits and more</a><span class=\"sitebit comhead\"> (<a href=\"from?site=arm.com\"><span class=\"sitestr\">arm.com</span></a>)</span></td></tr><tr><td colspan=\"2\"></td><td class=\"subtext\">\n",
      "        <span class=\"score\" id=\"score_32642768\">47 points</span> by <a href=\"user?id=danlark\" class=\"hnuser\">danlark</a> <span class=\"age\" title=\"2022-08-29T19:56:40\"><a href=\"item?id=32642768\">5 hours ago</a></span> <span id=\"unv_32642768\"></span> | <a href=\"hide?id=32642768&amp;goto=news\">hide</a> | <a href=\"item?id=32642768\">3&nbsp;comments</a>              </td></tr>\n",
      "      <tr class=\"spacer\" style=\"height:5px\"></tr>\n",
      "                <tr class='athing' id='32626787'>\n",
      "      <td align=\"right\" valign=\"top\" class=\"title\"><span class=\"rank\">17.</span></td>      <td valign=\"top\" class=\"votelinks\"><center><a id='up_32626787'href='vote?id=32626787&amp;how=up&amp;goto=news'><div class='votearrow' title='upvote'></div></a></center></td><td class=\"title\"><a href=\"https://archive.org/details/leonov-lebedev-psychological-problems-of-interplanetary-travel-1975\" class=\"titlelink\" rel=\"nofollow\">Psychological Problems of Interplanetary Travel (1975)</a><span class=\"sitebit comhead\"> (<a href=\"from?site=archive.org\"><span class=\"sitestr\">archive.org</span></a>)</span></td></tr><tr><td colspan=\"2\"></td><td class=\"subtext\">\n",
      "        <span class=\"score\" id=\"score_32626787\">5 points</span> by <a href=\"user?id=the-mitr\" class=\"hnuser\">the-mitr</a> <span class=\"age\" title=\"2022-08-28T08:39:48\"><a href=\"item?id=32626787\">1 hour ago</a></span> <span id=\"unv_32626787\"></span> | <a href=\"hide?id=32626787&amp;goto=news\">hide</a> | <a href=\"item?id=32626787\">discuss</a>              </td></tr>\n",
      "      <tr class=\"spacer\" style=\"height:5px\"></tr>\n",
      "                <tr class='athing' id='32638456'>\n",
      "      <td align=\"right\" valign=\"top\" class=\"title\"><span class=\"rank\">18.</span></td>      <td valign=\"top\" class=\"votelinks\"><center><a id='up_32638456'href='vote?id=32638456&amp;how=up&amp;goto=news'><div class='votearrow' title='upvote'></div></a></center></td><td class=\"title\"><a href=\"https://stratechery.com/2022/rights-laws-and-google/\" class=\"titlelink\">Rights, Laws, and Google</a><span class=\"sitebit comhead\"> (<a href=\"from?site=stratechery.com\"><span class=\"sitestr\">stratechery.com</span></a>)</span></td></tr><tr><td colspan=\"2\"></td><td class=\"subtext\">\n",
      "        <span class=\"score\" id=\"score_32638456\">125 points</span> by <a href=\"user?id=vinnyglennon\" class=\"hnuser\">vinnyglennon</a> <span class=\"age\" title=\"2022-08-29T14:09:28\"><a href=\"item?id=32638456\">10 hours ago</a></span> <span id=\"unv_32638456\"></span> | <a href=\"hide?id=32638456&amp;goto=news\">hide</a> | <a href=\"item?id=32638456\">96&nbsp;comments</a>              </td></tr>\n",
      "      <tr class=\"spacer\" style=\"height:5px\"></tr>\n",
      "                <tr class='athing' id='32645395'>\n",
      "      <td align=\"right\" valign=\"top\" class=\"title\"><span class=\"rank\">19.</span></td>      <td valign=\"top\" class=\"votelinks\"><center><a id='up_32645395'href='vote?id=32645395&amp;how=up&amp;goto=news'><div class='votearrow' title='upvote'></div></a></center></td><td class=\"title\"><a href=\"item?id=32645395\" class=\"titlelink\">Ask HN: Do you find discord completely disorienting?</a></td></tr><tr><td colspan=\"2\"></td><td class=\"subtext\">\n",
      "        <span class=\"score\" id=\"score_32645395\">11 points</span> by <a href=\"user?id=techsin101\" class=\"hnuser\">techsin101</a> <span class=\"age\" title=\"2022-08-30T00:44:48\"><a href=\"item?id=32645395\">22 minutes ago</a></span> <span id=\"unv_32645395\"></span> | <a href=\"hide?id=32645395&amp;goto=news\">hide</a> | <a href=\"item?id=32645395\">4&nbsp;comments</a>              </td></tr>\n",
      "      <tr class=\"spacer\" style=\"height:5px\"></tr>\n",
      "                <tr class='athing' id='32640918'>\n",
      "      <td align=\"right\" valign=\"top\" class=\"title\"><span class=\"rank\">20.</span></td>      <td valign=\"top\" class=\"votelinks\"><center><a id='up_32640918'href='vote?id=32640918&amp;how=up&amp;goto=news'><div class='votearrow' title='upvote'></div></a></center></td><td class=\"title\"><a href=\"https://github.com/jesseduffield/OK\" class=\"titlelink\">The OK? Programming Language</a><span class=\"sitebit comhead\"> (<a href=\"from?site=github.com/jesseduffield\"><span class=\"sitestr\">github.com/jesseduffield</span></a>)</span></td></tr><tr><td colspan=\"2\"></td><td class=\"subtext\">\n",
      "        <span class=\"score\" id=\"score_32640918\">84 points</span> by <a href=\"user?id=animal_spirits\" class=\"hnuser\">animal_spirits</a> <span class=\"age\" title=\"2022-08-29T17:26:22\"><a href=\"item?id=32640918\">7 hours ago</a></span> <span id=\"unv_32640918\"></span> | <a href=\"hide?id=32640918&amp;goto=news\">hide</a> | <a href=\"item?id=32640918\">42&nbsp;comments</a>              </td></tr>\n",
      "      <tr class=\"spacer\" style=\"height:5px\"></tr>\n",
      "                <tr class='athing' id='32642874'>\n",
      "      <td align=\"right\" valign=\"top\" class=\"title\"><span class=\"rank\">21.</span></td>      <td valign=\"top\" class=\"votelinks\"><center><a id='up_32642874'href='vote?id=32642874&amp;how=up&amp;goto=news'><div class='votearrow' title='upvote'></div></a></center></td><td class=\"title\"><a href=\"https://justine.lol/sizetricks/#elf\" class=\"titlelink\">Supporting four operating systems in a 400 byte ELF executable</a><span class=\"sitebit comhead\"> (<a href=\"from?site=justine.lol\"><span class=\"sitestr\">justine.lol</span></a>)</span></td></tr><tr><td colspan=\"2\"></td><td class=\"subtext\">\n",
      "        <span class=\"score\" id=\"score_32642874\">35 points</span> by <a href=\"user?id=jart\" class=\"hnuser\">jart</a> <span class=\"age\" title=\"2022-08-29T20:04:34\"><a href=\"item?id=32642874\">5 hours ago</a></span> <span id=\"unv_32642874\"></span> | <a href=\"hide?id=32642874&amp;goto=news\">hide</a> | <a href=\"item?id=32642874\">5&nbsp;comments</a>              </td></tr>\n",
      "      <tr class=\"spacer\" style=\"height:5px\"></tr>\n",
      "                <tr class='athing' id='32642832'>\n",
      "      <td align=\"right\" valign=\"top\" class=\"title\"><span class=\"rank\">22.</span></td>      <td valign=\"top\" class=\"votelinks\"><center><a id='up_32642832'href='vote?id=32642832&amp;how=up&amp;goto=news'><div class='votearrow' title='upvote'></div></a></center></td><td class=\"title\"><a href=\"https://lewissbaker.github.io/2022/08/27/understanding-the-compiler-transform\" class=\"titlelink\">C++ coroutines: Understanding the compiler transform</a><span class=\"sitebit comhead\"> (<a href=\"from?site=lewissbaker.github.io\"><span class=\"sitestr\">lewissbaker.github.io</span></a>)</span></td></tr><tr><td colspan=\"2\"></td><td class=\"subtext\">\n",
      "        <span class=\"score\" id=\"score_32642832\">41 points</span> by <a href=\"user?id=ibobev\" class=\"hnuser\">ibobev</a> <span class=\"age\" title=\"2022-08-29T20:01:30\"><a href=\"item?id=32642832\">5 hours ago</a></span> <span id=\"unv_32642832\"></span> | <a href=\"hide?id=32642832&amp;goto=news\">hide</a> | <a href=\"item?id=32642832\">18&nbsp;comments</a>              </td></tr>\n",
      "      <tr class=\"spacer\" style=\"height:5px\"></tr>\n",
      "                <tr class='athing' id='32636682'>\n",
      "      <td align=\"right\" valign=\"top\" class=\"title\"><span class=\"rank\">23.</span></td>      <td valign=\"top\" class=\"votelinks\"><center><a id='up_32636682'href='vote?id=32636682&amp;how=up&amp;goto=news'><div class='votearrow' title='upvote'></div></a></center></td><td class=\"title\"><a href=\"https://batsov.com/articles/2022/08/29/ocaml-at-first-glance/\" class=\"titlelink\">OCaml at First Glance</a><span class=\"sitebit comhead\"> (<a href=\"from?site=batsov.com\"><span class=\"sitestr\">batsov.com</span></a>)</span></td></tr><tr><td colspan=\"2\"></td><td class=\"subtext\">\n",
      "        <span class=\"score\" id=\"score_32636682\">243 points</span> by <a href=\"user?id=todsacerdoti\" class=\"hnuser\">todsacerdoti</a> <span class=\"age\" title=\"2022-08-29T11:00:13\"><a href=\"item?id=32636682\">14 hours ago</a></span> <span id=\"unv_32636682\"></span> | <a href=\"hide?id=32636682&amp;goto=news\">hide</a> | <a href=\"item?id=32636682\">65&nbsp;comments</a>              </td></tr>\n",
      "      <tr class=\"spacer\" style=\"height:5px\"></tr>\n",
      "                <tr class='athing' id='32637643'>\n",
      "      <td align=\"right\" valign=\"top\" class=\"title\"><span class=\"rank\">24.</span></td>      <td valign=\"top\" class=\"votelinks\"><center><a id='up_32637643'href='vote?id=32637643&amp;how=up&amp;goto=news'><div class='votearrow' title='upvote'></div></a></center></td><td class=\"title\"><a href=\"https://github.blog/2022-08-29-gits-database-internals-i-packed-object-store/\" class=\"titlelink\">Git’s database internals I: packed object store</a><span class=\"sitebit comhead\"> (<a href=\"from?site=github.blog\"><span class=\"sitestr\">github.blog</span></a>)</span></td></tr><tr><td colspan=\"2\"></td><td class=\"subtext\">\n",
      "        <span class=\"score\" id=\"score_32637643\">174 points</span> by <a href=\"user?id=todsacerdoti\" class=\"hnuser\">todsacerdoti</a> <span class=\"age\" title=\"2022-08-29T13:01:03\"><a href=\"item?id=32637643\">12 hours ago</a></span> <span id=\"unv_32637643\"></span> | <a href=\"hide?id=32637643&amp;goto=news\">hide</a> | <a href=\"item?id=32637643\">56&nbsp;comments</a>              </td></tr>\n",
      "      <tr class=\"spacer\" style=\"height:5px\"></tr>\n",
      "                <tr class='athing' id='32629172'>\n",
      "      <td align=\"right\" valign=\"top\" class=\"title\"><span class=\"rank\">25.</span></td>      <td valign=\"top\" class=\"votelinks\"><center><a id='up_32629172'href='vote?id=32629172&amp;how=up&amp;goto=news'><div class='votearrow' title='upvote'></div></a></center></td><td class=\"title\"><a href=\"https://www.nytimes.com/2022/08/23/science/doppelgangers-twins-dna.html\" class=\"titlelink\">Your doppelgänger is out there and you probably share DNA with them</a><span class=\"sitebit comhead\"> (<a href=\"from?site=nytimes.com\"><span class=\"sitestr\">nytimes.com</span></a>)</span></td></tr><tr><td colspan=\"2\"></td><td class=\"subtext\">\n",
      "        <span class=\"score\" id=\"score_32629172\">86 points</span> by <a href=\"user?id=pseudolus\" class=\"hnuser\">pseudolus</a> <span class=\"age\" title=\"2022-08-28T15:32:27\"><a href=\"item?id=32629172\">10 hours ago</a></span> <span id=\"unv_32629172\"></span> | <a href=\"hide?id=32629172&amp;goto=news\">hide</a> | <a href=\"item?id=32629172\">105&nbsp;comments</a>              </td></tr>\n",
      "      <tr class=\"spacer\" style=\"height:5px\"></tr>\n",
      "                <tr class='athing' id='32644878'>\n",
      "      <td align=\"right\" valign=\"top\" class=\"title\"><span class=\"rank\">26.</span></td>      <td valign=\"top\" class=\"votelinks\"><center><a id='up_32644878'href='vote?id=32644878&amp;how=up&amp;goto=news'><div class='votearrow' title='upvote'></div></a></center></td><td class=\"title\"><a href=\"https://www.anandtech.com/show/17552/amd-details-ryzen-7000-launch-up-ryzen-7900x-coming-sept-30\" class=\"titlelink\">AMD Details Ryzen 7000 Launch: Ryzen 7950X and More, Coming Sept. 27th</a><span class=\"sitebit comhead\"> (<a href=\"from?site=anandtech.com\"><span class=\"sitestr\">anandtech.com</span></a>)</span></td></tr><tr><td colspan=\"2\"></td><td class=\"subtext\">\n",
      "        <span class=\"score\" id=\"score_32644878\">28 points</span> by <a href=\"user?id=neogodless\" class=\"hnuser\">neogodless</a> <span class=\"age\" title=\"2022-08-29T23:35:17\"><a href=\"item?id=32644878\">1 hour ago</a></span> <span id=\"unv_32644878\"></span> | <a href=\"hide?id=32644878&amp;goto=news\">hide</a> | <a href=\"item?id=32644878\">13&nbsp;comments</a>              </td></tr>\n",
      "      <tr class=\"spacer\" style=\"height:5px\"></tr>\n",
      "                <tr class='athing' id='32641259'>\n",
      "      <td align=\"right\" valign=\"top\" class=\"title\"><span class=\"rank\">27.</span></td>      <td valign=\"top\" class=\"votelinks\"><center><a id='up_32641259'href='vote?id=32641259&amp;how=up&amp;goto=news'><div class='votearrow' title='upvote'></div></a></center></td><td class=\"title\"><a href=\"item?id=32641259\" class=\"titlelink\">Ask HN: Why hasn't the ACH system been more abused?</a></td></tr><tr><td colspan=\"2\"></td><td class=\"subtext\">\n",
      "        <span class=\"score\" id=\"score_32641259\">139 points</span> by <a href=\"user?id=gernb\" class=\"hnuser\">gernb</a> <span class=\"age\" title=\"2022-08-29T17:53:18\"><a href=\"item?id=32641259\">7 hours ago</a></span> <span id=\"unv_32641259\"></span> | <a href=\"hide?id=32641259&amp;goto=news\">hide</a> | <a href=\"item?id=32641259\">189&nbsp;comments</a>              </td></tr>\n",
      "      <tr class=\"spacer\" style=\"height:5px\"></tr>\n",
      "                <tr class='athing' id='32639970'>\n",
      "      <td align=\"right\" valign=\"top\" class=\"title\"><span class=\"rank\">28.</span></td>      <td valign=\"top\" class=\"votelinks\"><center><a id='up_32639970'href='vote?id=32639970&amp;how=up&amp;goto=news'><div class='votearrow' title='upvote'></div></a></center></td><td class=\"title\"><a href=\"https://wagslane.dev/posts/no-one-does-devops/\" class=\"titlelink\">DevOps: An idea so good, no one admits they don’t do it</a><span class=\"sitebit comhead\"> (<a href=\"from?site=wagslane.dev\"><span class=\"sitestr\">wagslane.dev</span></a>)</span></td></tr><tr><td colspan=\"2\"></td><td class=\"subtext\">\n",
      "        <span class=\"score\" id=\"score_32639970\">191 points</span> by <a href=\"user?id=wagslane\" class=\"hnuser\">wagslane</a> <span class=\"age\" title=\"2022-08-29T16:16:27\"><a href=\"item?id=32639970\">8 hours ago</a></span> <span id=\"unv_32639970\"></span> | <a href=\"hide?id=32639970&amp;goto=news\">hide</a> | <a href=\"item?id=32639970\">250&nbsp;comments</a>              </td></tr>\n",
      "      <tr class=\"spacer\" style=\"height:5px\"></tr>\n",
      "                <tr class='athing' id='32628192'>\n",
      "      <td align=\"right\" valign=\"top\" class=\"title\"><span class=\"rank\">29.</span></td>      <td valign=\"top\" class=\"votelinks\"><center><a id='up_32628192'href='vote?id=32628192&amp;how=up&amp;goto=news'><div class='votearrow' title='upvote'></div></a></center></td><td class=\"title\"><a href=\"https://tupa.gtk.fi/raportti/arkisto/16_2021.pdf\" class=\"titlelink\">The Mining of Minerals and the Limits to Growth (2021) [pdf]</a><span class=\"sitebit comhead\"> (<a href=\"from?site=gtk.fi\"><span class=\"sitestr\">gtk.fi</span></a>)</span></td></tr><tr><td colspan=\"2\"></td><td class=\"subtext\">\n",
      "        <span class=\"score\" id=\"score_32628192\">67 points</span> by <a href=\"user?id=simonpure\" class=\"hnuser\">simonpure</a> <span class=\"age\" title=\"2022-08-28T13:20:38\"><a href=\"item?id=32628192\">9 hours ago</a></span> <span id=\"unv_32628192\"></span> | <a href=\"hide?id=32628192&amp;goto=news\">hide</a> | <a href=\"item?id=32628192\">59&nbsp;comments</a>              </td></tr>\n",
      "      <tr class=\"spacer\" style=\"height:5px\"></tr>\n",
      "                <tr class='athing' id='32636412'>\n",
      "      <td align=\"right\" valign=\"top\" class=\"title\"><span class=\"rank\">30.</span></td>      <td valign=\"top\" class=\"votelinks\"><center><a id='up_32636412'href='vote?id=32636412&amp;how=up&amp;goto=news'><div class='votearrow' title='upvote'></div></a></center></td><td class=\"title\"><a href=\"https://community.blokada.org/t/google-cracks-down-on-vpn-based-adblockers/26110\" class=\"titlelink\">Google cracks down on VPN based adblockers</a><span class=\"sitebit comhead\"> (<a href=\"from?site=blokada.org\"><span class=\"sitestr\">blokada.org</span></a>)</span></td></tr><tr><td colspan=\"2\"></td><td class=\"subtext\">\n",
      "        <span class=\"score\" id=\"score_32636412\">519 points</span> by <a href=\"user?id=balboah\" class=\"hnuser\">balboah</a> <span class=\"age\" title=\"2022-08-29T10:07:03\"><a href=\"item?id=32636412\">15 hours ago</a></span> <span id=\"unv_32636412\"></span> | <a href=\"hide?id=32636412&amp;goto=news\">hide</a> | <a href=\"item?id=32636412\">539&nbsp;comments</a>              </td></tr>\n",
      "      <tr class=\"spacer\" style=\"height:5px\"></tr>\n",
      "            <tr class=\"morespace\" style=\"height:10px\"></tr><tr><td colspan=\"2\"></td>\n",
      "      <td class='title'><a href='news?p=2' class='morelink' rel='next'>More</a></td>    </tr>\n",
      "  </table>\n",
      "</td></tr>\n",
      "<tr><td><img src=\"s.gif\" height=\"10\" width=\"0\"><table width=\"100%\" cellspacing=\"0\" cellpadding=\"1\"><tr><td bgcolor=\"#ff6600\"></td></tr></table><br><center><a href=\"https://www.ycombinator.com/apply/\">\n",
      "        Applications are open for YC Winter 2023\n",
      "      </a></center><br><center><span class=\"yclinks\"><a href=\"newsguidelines.html\">Guidelines</a>\n",
      "        | <a href=\"newsfaq.html\">FAQ</a>\n",
      "        | <a href=\"lists\">Lists</a>\n",
      "        | <a href=\"https://github.com/HackerNews/API\">API</a>\n",
      "        | <a href=\"security.html\">Security</a>\n",
      "        | <a href=\"http://www.ycombinator.com/legal/\">Legal</a>\n",
      "        | <a href=\"http://www.ycombinator.com/apply/\">Apply to YC</a>\n",
      "        | <a href=\"mailto:hn@ycombinator.com\">Contact</a></span><br><br><form method=\"get\" action=\"//hn.algolia.com/\">Search:\n",
      "          <input type=\"text\" name=\"q\" value=\"\" size=\"17\" autocorrect=\"off\" spellcheck=\"false\" autocapitalize=\"off\" autocomplete=\"false\"></form>\n",
      "            </center></td></tr>\n",
      "      </table></center></body>\n",
      "      <script type='text/javascript' src='hn.js?CC3O3g8R3a6BgIE1hihI'></script>\n",
      "  </html>\n",
      "\n"
     ]
    }
   ],
   "source": [
    "# Fetch a web page\n",
    "r = requests.get(\"https://news.ycombinator.com\")\n",
    "print(r.text)"
   ]
  },
  {
   "cell_type": "code",
   "execution_count": 9,
   "id": "4e5d1258-1b99-4d6b-85c9-48661d43d12c",
   "metadata": {
    "scrolled": true,
    "tags": []
   },
   "outputs": [
    {
     "name": "stdout",
     "output_type": "stream",
     "text": [
      "\n",
      "        \n",
      "          \n",
      "        Hacker News\n",
      "        \n",
      "                  Hacker News\n",
      "                            new | past | comments | ask | show | jobs | submit            \n",
      "                              login\n",
      "                          \n",
      "              \n",
      "\n",
      "              \n",
      "      1.      The Big [Censored] Theory (pudding.cool)\n",
      "        811 points by feross 7 hours ago  | hide | 464&nbsp;comments              \n",
      "      \n",
      "                \n",
      "      2.      Stable Diffusion Textual Inversion (github.com/hlky)\n",
      "        161 points by antman 3 hours ago  | hide | 73&nbsp;comments              \n",
      "      \n",
      "                \n",
      "      3.      90s Cursor Effects (tholman.com)\n",
      "        353 points by lysergia 7 hours ago  | hide | 119&nbsp;comments              \n",
      "      \n",
      "                \n",
      "      4.      Don’t think to write, write to think (herbertlui.net)\n",
      "        104 points by herbertl 4 hours ago  | hide | 34&nbsp;comments              \n",
      "      \n",
      "                \n",
      "      5.      Why are you so busy? (tomlingham.com)\n",
      "        56 points by tjlingham 2 hours ago  | hide | 18&nbsp;comments              \n",
      "      \n",
      "                \n",
      "      6.      Welcome Home, Garry Tan (ycombinator.com)\n",
      "        614 points by todsacerdoti 12 hours ago  | hide | 214&nbsp;comments              \n",
      "      \n",
      "                \n",
      "      7.      Microformats Wiki (microformats.org)\n",
      "        72 points by Tomte 4 hours ago  | hide | 21&nbsp;comments              \n",
      "      \n",
      "                \n",
      "      8.      Run Stable Diffusion on Intel CPUs (github.com/bes-dev)\n",
      "        114 points by amrrs 5 hours ago  | hide | 43&nbsp;comments              \n",
      "      \n",
      "                \n",
      "      9.      Show HN: I built a tool to help you read Hacker News on Kindle (ktool.io)\n",
      "        312 points by longnguyen 11 hours ago  | hide | 56&nbsp;comments              \n",
      "      \n",
      "                \n",
      "      10.      Python library for univariate regression, interpolation, and smoothing (github.com/brendanartley)\n",
      "        9 points by codeboy7432 1 hour ago  | hide | 5&nbsp;comments              \n",
      "      \n",
      "                \n",
      "      11.      The Peter Principle (1974) [video] (youtube.com)\n",
      "        19 points by nyc111 3 hours ago  | hide | 11&nbsp;comments              \n",
      "      \n",
      "                \n",
      "      12.      Why 12 notes in Western music? (github.com/aguaviva)\n",
      "        176 points by xchip 10 hours ago  | hide | 112&nbsp;comments              \n",
      "      \n",
      "                \n",
      "      13.      Are GPUs Worth It for ML? (exafunction.com)\n",
      "        94 points by varunkmohan 6 hours ago  | hide | 66&nbsp;comments              \n",
      "      \n",
      "                \n",
      "      14.      EasyPost (YC S13) Is Hiring (easypost.com)\n",
      "        4 hours ago | hide      \n",
      "      \n",
      "                \n",
      "      15.      Rewriting my blog in Rust for fun and profit (jonashietala.se)\n",
      "        169 points by lawn 10 hours ago  | hide | 78&nbsp;comments              \n",
      "      \n",
      "                \n",
      "      16.      Bit twiddling with Arm Neon: beating SSE movemasks, counting bits and more (arm.com)\n",
      "        47 points by danlark 5 hours ago  | hide | 3&nbsp;comments              \n",
      "      \n",
      "                \n",
      "      17.      Psychological Problems of Interplanetary Travel (1975) (archive.org)\n",
      "        5 points by the-mitr 1 hour ago  | hide | discuss              \n",
      "      \n",
      "                \n",
      "      18.      Rights, Laws, and Google (stratechery.com)\n",
      "        125 points by vinnyglennon 10 hours ago  | hide | 96&nbsp;comments              \n",
      "      \n",
      "                \n",
      "      19.      Ask HN: Do you find discord completely disorienting?\n",
      "        11 points by techsin101 22 minutes ago  | hide | 4&nbsp;comments              \n",
      "      \n",
      "                \n",
      "      20.      The OK? Programming Language (github.com/jesseduffield)\n",
      "        84 points by animal_spirits 7 hours ago  | hide | 42&nbsp;comments              \n",
      "      \n",
      "                \n",
      "      21.      Supporting four operating systems in a 400 byte ELF executable (justine.lol)\n",
      "        35 points by jart 5 hours ago  | hide | 5&nbsp;comments              \n",
      "      \n",
      "                \n",
      "      22.      C++ coroutines: Understanding the compiler transform (lewissbaker.github.io)\n",
      "        41 points by ibobev 5 hours ago  | hide | 18&nbsp;comments              \n",
      "      \n",
      "                \n",
      "      23.      OCaml at First Glance (batsov.com)\n",
      "        243 points by todsacerdoti 14 hours ago  | hide | 65&nbsp;comments              \n",
      "      \n",
      "                \n",
      "      24.      Git’s database internals I: packed object store (github.blog)\n",
      "        174 points by todsacerdoti 12 hours ago  | hide | 56&nbsp;comments              \n",
      "      \n",
      "                \n",
      "      25.      Your doppelgänger is out there and you probably share DNA with them (nytimes.com)\n",
      "        86 points by pseudolus 10 hours ago  | hide | 105&nbsp;comments              \n",
      "      \n",
      "                \n",
      "      26.      AMD Details Ryzen 7000 Launch: Ryzen 7950X and More, Coming Sept. 27th (anandtech.com)\n",
      "        28 points by neogodless 1 hour ago  | hide | 13&nbsp;comments              \n",
      "      \n",
      "                \n",
      "      27.      Ask HN: Why hasn't the ACH system been more abused?\n",
      "        139 points by gernb 7 hours ago  | hide | 189&nbsp;comments              \n",
      "      \n",
      "                \n",
      "      28.      DevOps: An idea so good, no one admits they don’t do it (wagslane.dev)\n",
      "        191 points by wagslane 8 hours ago  | hide | 250&nbsp;comments              \n",
      "      \n",
      "                \n",
      "      29.      The Mining of Minerals and the Limits to Growth (2021) [pdf] (gtk.fi)\n",
      "        67 points by simonpure 9 hours ago  | hide | 59&nbsp;comments              \n",
      "      \n",
      "                \n",
      "      30.      Google cracks down on VPN based adblockers (blokada.org)\n",
      "        519 points by balboah 15 hours ago  | hide | 539&nbsp;comments              \n",
      "      \n",
      "            \n",
      "      More    \n",
      "  \n",
      "\n",
      "\n",
      "        Applications are open for YC Winter 2023\n",
      "      Guidelines\n",
      "        | FAQ\n",
      "        | Lists\n",
      "        | API\n",
      "        | Security\n",
      "        | Legal\n",
      "        | Apply to YC\n",
      "        | ContactSearch:\n",
      "          \n",
      "            \n",
      "      \n",
      "      \n",
      "  \n",
      "\n"
     ]
    }
   ],
   "source": [
    "# Remove HTML tags using RegEx\n",
    "pattern = re.compile(r'<.*?>')  # tags look like <...>\n",
    "print(pattern.sub('', r.text))  # replace them with blank"
   ]
  },
  {
   "cell_type": "code",
   "execution_count": 10,
   "id": "f8311d0a-86da-4789-8d78-10056e387743",
   "metadata": {
    "scrolled": true,
    "tags": []
   },
   "outputs": [
    {
     "name": "stdout",
     "output_type": "stream",
     "text": [
      "\n",
      "        \n",
      "          \n",
      "        Hacker News\n",
      "        \n",
      "                  Hacker News\n",
      "                            new | past | comments | ask | show | jobs | submit            \n",
      "                              login\n",
      "                          \n",
      "              \n",
      "\n",
      "              \n",
      "      1.      The Big [Censored] Theory (pudding.cool)\n",
      "        811 points by feross 7 hours ago  | hide | 464 comments              \n",
      "      \n",
      "                \n",
      "      2.      Stable Diffusion Textual Inversion (github.com/hlky)\n",
      "        161 points by antman 3 hours ago  | hide | 73 comments              \n",
      "      \n",
      "                \n",
      "      3.      90s Cursor Effects (tholman.com)\n",
      "        353 points by lysergia 7 hours ago  | hide | 119 comments              \n",
      "      \n",
      "                \n",
      "      4.      Don’t think to write, write to think (herbertlui.net)\n",
      "        104 points by herbertl 4 hours ago  | hide | 34 comments              \n",
      "      \n",
      "                \n",
      "      5.      Why are you so busy? (tomlingham.com)\n",
      "        56 points by tjlingham 2 hours ago  | hide | 18 comments              \n",
      "      \n",
      "                \n",
      "      6.      Welcome Home, Garry Tan (ycombinator.com)\n",
      "        614 points by todsacerdoti 12 hours ago  | hide | 214 comments              \n",
      "      \n",
      "                \n",
      "      7.      Microformats Wiki (microformats.org)\n",
      "        72 points by Tomte 4 hours ago  | hide | 21 comments              \n",
      "      \n",
      "                \n",
      "      8.      Run Stable Diffusion on Intel CPUs (github.com/bes-dev)\n",
      "        114 points by amrrs 5 hours ago  | hide | 43 comments              \n",
      "      \n",
      "                \n",
      "      9.      Show HN: I built a tool to help you read Hacker News on Kindle (ktool.io)\n",
      "        312 points by longnguyen 11 hours ago  | hide | 56 comments              \n",
      "      \n",
      "                \n",
      "      10.      Python library for univariate regression, interpolation, and smoothing (github.com/brendanartley)\n",
      "        9 points by codeboy7432 1 hour ago  | hide | 5 comments              \n",
      "      \n",
      "                \n",
      "      11.      The Peter Principle (1974) [video] (youtube.com)\n",
      "        19 points by nyc111 3 hours ago  | hide | 11 comments              \n",
      "      \n",
      "                \n",
      "      12.      Why 12 notes in Western music? (github.com/aguaviva)\n",
      "        176 points by xchip 10 hours ago  | hide | 112 comments              \n",
      "      \n",
      "                \n",
      "      13.      Are GPUs Worth It for ML? (exafunction.com)\n",
      "        94 points by varunkmohan 6 hours ago  | hide | 66 comments              \n",
      "      \n",
      "                \n",
      "      14.      EasyPost (YC S13) Is Hiring (easypost.com)\n",
      "        4 hours ago | hide      \n",
      "      \n",
      "                \n",
      "      15.      Rewriting my blog in Rust for fun and profit (jonashietala.se)\n",
      "        169 points by lawn 10 hours ago  | hide | 78 comments              \n",
      "      \n",
      "                \n",
      "      16.      Bit twiddling with Arm Neon: beating SSE movemasks, counting bits and more (arm.com)\n",
      "        47 points by danlark 5 hours ago  | hide | 3 comments              \n",
      "      \n",
      "                \n",
      "      17.      Psychological Problems of Interplanetary Travel (1975) (archive.org)\n",
      "        5 points by the-mitr 1 hour ago  | hide | discuss              \n",
      "      \n",
      "                \n",
      "      18.      Rights, Laws, and Google (stratechery.com)\n",
      "        125 points by vinnyglennon 10 hours ago  | hide | 96 comments              \n",
      "      \n",
      "                \n",
      "      19.      Ask HN: Do you find discord completely disorienting?\n",
      "        11 points by techsin101 22 minutes ago  | hide | 4 comments              \n",
      "      \n",
      "                \n",
      "      20.      The OK? Programming Language (github.com/jesseduffield)\n",
      "        84 points by animal_spirits 7 hours ago  | hide | 42 comments              \n",
      "      \n",
      "                \n",
      "      21.      Supporting four operating systems in a 400 byte ELF executable (justine.lol)\n",
      "        35 points by jart 5 hours ago  | hide | 5 comments              \n",
      "      \n",
      "                \n",
      "      22.      C++ coroutines: Understanding the compiler transform (lewissbaker.github.io)\n",
      "        41 points by ibobev 5 hours ago  | hide | 18 comments              \n",
      "      \n",
      "                \n",
      "      23.      OCaml at First Glance (batsov.com)\n",
      "        243 points by todsacerdoti 14 hours ago  | hide | 65 comments              \n",
      "      \n",
      "                \n",
      "      24.      Git’s database internals I: packed object store (github.blog)\n",
      "        174 points by todsacerdoti 12 hours ago  | hide | 56 comments              \n",
      "      \n",
      "                \n",
      "      25.      Your doppelgänger is out there and you probably share DNA with them (nytimes.com)\n",
      "        86 points by pseudolus 10 hours ago  | hide | 105 comments              \n",
      "      \n",
      "                \n",
      "      26.      AMD Details Ryzen 7000 Launch: Ryzen 7950X and More, Coming Sept. 27th (anandtech.com)\n",
      "        28 points by neogodless 1 hour ago  | hide | 13 comments              \n",
      "      \n",
      "                \n",
      "      27.      Ask HN: Why hasn't the ACH system been more abused?\n",
      "        139 points by gernb 7 hours ago  | hide | 189 comments              \n",
      "      \n",
      "                \n",
      "      28.      DevOps: An idea so good, no one admits they don’t do it (wagslane.dev)\n",
      "        191 points by wagslane 8 hours ago  | hide | 250 comments              \n",
      "      \n",
      "                \n",
      "      29.      The Mining of Minerals and the Limits to Growth (2021) [pdf] (gtk.fi)\n",
      "        67 points by simonpure 9 hours ago  | hide | 59 comments              \n",
      "      \n",
      "                \n",
      "      30.      Google cracks down on VPN based adblockers (blokada.org)\n",
      "        519 points by balboah 15 hours ago  | hide | 539 comments              \n",
      "      \n",
      "            \n",
      "      More    \n",
      "  \n",
      "\n",
      "\n",
      "        Applications are open for YC Winter 2023\n",
      "      Guidelines\n",
      "        | FAQ\n",
      "        | Lists\n",
      "        | API\n",
      "        | Security\n",
      "        | Legal\n",
      "        | Apply to YC\n",
      "        | ContactSearch:\n",
      "          \n",
      "            \n",
      "      \n",
      "      \n",
      "  \n",
      "\n"
     ]
    }
   ],
   "source": [
    "# Remove HTML tags using Beautiful Soup library\n",
    "soup = BeautifulSoup(r.text, \"html5lib\")\n",
    "print(soup.get_text())"
   ]
  },
  {
   "cell_type": "code",
   "execution_count": 11,
   "id": "35465149-e6fd-4bad-bbeb-f831a098306c",
   "metadata": {},
   "outputs": [
    {
     "data": {
      "text/plain": [
       "<tr class=\"athing\" id=\"32641028\">\n",
       "      <td align=\"right\" class=\"title\" valign=\"top\"><span class=\"rank\">1.</span></td>      <td class=\"votelinks\" valign=\"top\"><center><a href=\"vote?id=32641028&amp;how=up&amp;goto=news\" id=\"up_32641028\"><div class=\"votearrow\" title=\"upvote\"></div></a></center></td><td class=\"title\"><a class=\"titlelink\" href=\"https://pudding.cool/2022/08/censorship/\">The Big [Censored] Theory</a><span class=\"sitebit comhead\"> (<a href=\"from?site=pudding.cool\"><span class=\"sitestr\">pudding.cool</span></a>)</span></td></tr>"
      ]
     },
     "execution_count": 11,
     "metadata": {},
     "output_type": "execute_result"
    }
   ],
   "source": [
    "summaries = soup.find_all(\"tr\", class_=\"athing\")\n",
    "summaries[0]"
   ]
  },
  {
   "cell_type": "code",
   "execution_count": 12,
   "id": "f1d522df-4a26-4d10-ba03-6f46421d9b1d",
   "metadata": {},
   "outputs": [
    {
     "data": {
      "text/plain": [
       "'The Big [Censored] Theory'"
      ]
     },
     "execution_count": 12,
     "metadata": {},
     "output_type": "execute_result"
    }
   ],
   "source": [
    "# Extract title\n",
    "summaries[0].find(\"a\", class_=\"titlelink\").get_text().strip()"
   ]
  },
  {
   "cell_type": "code",
   "execution_count": 13,
   "id": "de45c9a3-2507-4c1a-ae73-b9d4ca1a6d74",
   "metadata": {},
   "outputs": [
    {
     "name": "stdout",
     "output_type": "stream",
     "text": [
      "30 Article summaries found. Sample:\n",
      "The Big [Censored] Theory\n"
     ]
    }
   ],
   "source": [
    "# Find all articles, extract titles\n",
    "articles = []\n",
    "summaries = soup.find_all(\"tr\", class_=\"athing\")\n",
    "for summary in summaries:\n",
    "    title = summary.find(\"a\", class_=\"titlelink\").get_text().strip()\n",
    "    articles.append((title))\n",
    "\n",
    "print(len(articles), \"Article summaries found. Sample:\")\n",
    "print(articles[0])"
   ]
  },
  {
   "cell_type": "markdown",
   "id": "f3450c38-5f8b-4a4b-9c31-cbdcd838a313",
   "metadata": {},
   "source": [
    "## Normalization\n",
    "\n",
    "5. Case Normalization"
   ]
  },
  {
   "cell_type": "code",
   "execution_count": 14,
   "id": "4bbac884-29c1-4876-859f-a5c6707bc9ae",
   "metadata": {},
   "outputs": [
    {
     "name": "stdout",
     "output_type": "stream",
     "text": [
      "The first time you see The Second Renaissance it may look boring. Look at it at least twice and definitely watch part 2. It will change your view of the matrix. Are the human people the ones who started the war ? Is AI a bad thing ?\n"
     ]
    }
   ],
   "source": [
    "# Sample text\n",
    "text = \"The first time you see The Second Renaissance it may look boring. Look at it at least twice and definitely watch part 2. It will change your view of the matrix. Are the human people the ones who started the war ? Is AI a bad thing ?\"\n",
    "print(text)"
   ]
  },
  {
   "cell_type": "code",
   "execution_count": 15,
   "id": "e1a445f7-903c-47e4-acbe-ee404f3b3bb4",
   "metadata": {},
   "outputs": [
    {
     "name": "stdout",
     "output_type": "stream",
     "text": [
      "the first time you see the second renaissance it may look boring. look at it at least twice and definitely watch part 2. it will change your view of the matrix. are the human people the ones who started the war ? is ai a bad thing ?\n"
     ]
    }
   ],
   "source": [
    "text = text.lower()\n",
    "print(text)"
   ]
  },
  {
   "cell_type": "markdown",
   "id": "2c0a0d0a-c957-4532-bb2d-b72fe3650adc",
   "metadata": {},
   "source": [
    "6. Punctuation Removal"
   ]
  },
  {
   "cell_type": "code",
   "execution_count": 19,
   "id": "716a1834-2c74-4dce-af31-23bcdcaa206b",
   "metadata": {},
   "outputs": [
    {
     "name": "stdout",
     "output_type": "stream",
     "text": [
      "the first time you see the second renaissance it may look boring  look at it at least twice and definitely watch part 2  it will change your view of the matrix  are the human people the ones who started the war   is ai a bad thing  \n"
     ]
    }
   ],
   "source": [
    "# Remove punctuation characters\n",
    "text = re.sub(r\"[^a-zA-Z0-9]\", \" \", text) \n",
    "print(text)"
   ]
  },
  {
   "cell_type": "markdown",
   "id": "54296922-cf72-496a-85fc-5a9f26b23eef",
   "metadata": {},
   "source": [
    "7. Tokenization"
   ]
  },
  {
   "cell_type": "code",
   "execution_count": 20,
   "id": "78b31148-0f9d-4e48-86c5-a73d06d980a1",
   "metadata": {},
   "outputs": [
    {
     "name": "stdout",
     "output_type": "stream",
     "text": [
      "['the', 'first', 'time', 'you', 'see', 'the', 'second', 'renaissance', 'it', 'may', 'look', 'boring', 'look', 'at', 'it', 'at', 'least', 'twice', 'and', 'definitely', 'watch', 'part', '2', 'it', 'will', 'change', 'your', 'view', 'of', 'the', 'matrix', 'are', 'the', 'human', 'people', 'the', 'ones', 'who', 'started', 'the', 'war', 'is', 'ai', 'a', 'bad', 'thing']\n"
     ]
    }
   ],
   "source": [
    "# Split text into tokens (words)\n",
    "words = text.split()\n",
    "print(words)"
   ]
  },
  {
   "cell_type": "markdown",
   "id": "98b5560d-00d4-4632-a11b-2cac0ffcf455",
   "metadata": {},
   "source": [
    "## NLTK: Natural Language ToolKit"
   ]
  },
  {
   "cell_type": "code",
   "execution_count": 24,
   "id": "a7e87d22-db13-4dbf-890f-a41c074e92d4",
   "metadata": {},
   "outputs": [
    {
     "name": "stderr",
     "output_type": "stream",
     "text": [
      "[nltk_data] Downloading package punkt to\n",
      "[nltk_data]     /Users/daiglechris/nltk_data...\n",
      "[nltk_data]   Unzipping tokenizers/punkt.zip.\n"
     ]
    },
    {
     "data": {
      "text/plain": [
       "True"
      ]
     },
     "execution_count": 24,
     "metadata": {},
     "output_type": "execute_result"
    }
   ],
   "source": [
    "import nltk\n",
    "nltk.data.path.append(os.path.join(os.getcwd(), \"nltk_data\"))\n",
    "nltk.download('punkt')"
   ]
  },
  {
   "cell_type": "code",
   "execution_count": 29,
   "id": "f5ebf91d-1ac2-421b-bf9e-5dbaa0fe28a9",
   "metadata": {},
   "outputs": [
    {
     "name": "stderr",
     "output_type": "stream",
     "text": [
      "[nltk_data] Downloading package stopwords to\n",
      "[nltk_data]     /Users/daiglechris/nltk_data...\n",
      "[nltk_data]   Unzipping corpora/stopwords.zip.\n"
     ]
    },
    {
     "data": {
      "text/plain": [
       "True"
      ]
     },
     "execution_count": 29,
     "metadata": {},
     "output_type": "execute_result"
    }
   ],
   "source": [
    "nltk.download('stopwords')"
   ]
  },
  {
   "cell_type": "code",
   "execution_count": 36,
   "id": "42e79133-0b44-4960-a552-50fed80f728c",
   "metadata": {},
   "outputs": [
    {
     "name": "stderr",
     "output_type": "stream",
     "text": [
      "[nltk_data] Downloading package wordnet to\n",
      "[nltk_data]     /Users/daiglechris/nltk_data...\n"
     ]
    },
    {
     "data": {
      "text/plain": [
       "True"
      ]
     },
     "execution_count": 36,
     "metadata": {},
     "output_type": "execute_result"
    }
   ],
   "source": [
    "nltk.download('wordnet')"
   ]
  },
  {
   "cell_type": "code",
   "execution_count": 38,
   "id": "9b58c9db-fa2d-4bd1-9912-063427a843ac",
   "metadata": {},
   "outputs": [
    {
     "name": "stderr",
     "output_type": "stream",
     "text": [
      "[nltk_data] Downloading package omw-1.4 to\n",
      "[nltk_data]     /Users/daiglechris/nltk_data...\n"
     ]
    },
    {
     "data": {
      "text/plain": [
       "True"
      ]
     },
     "execution_count": 38,
     "metadata": {},
     "output_type": "execute_result"
    }
   ],
   "source": [
    "nltk.download('omw-1.4')"
   ]
  },
  {
   "cell_type": "code",
   "execution_count": 25,
   "id": "b5fd187d-44a7-49c0-82f0-734804159e73",
   "metadata": {},
   "outputs": [
    {
     "name": "stdout",
     "output_type": "stream",
     "text": [
      "Dr. Smith graduated from the University of Washington. He later started an analytics firm called Lux, which catered to enterprise customers.\n"
     ]
    }
   ],
   "source": [
    "# Another sample text\n",
    "text = \"Dr. Smith graduated from the University of Washington. He later started an analytics firm called Lux, which catered to enterprise customers.\"\n",
    "print(text)"
   ]
  },
  {
   "cell_type": "code",
   "execution_count": 26,
   "id": "47f503f7-628d-4f83-8544-3180146cc42e",
   "metadata": {},
   "outputs": [
    {
     "name": "stdout",
     "output_type": "stream",
     "text": [
      "['Dr.', 'Smith', 'graduated', 'from', 'the', 'University', 'of', 'Washington', '.', 'He', 'later', 'started', 'an', 'analytics', 'firm', 'called', 'Lux', ',', 'which', 'catered', 'to', 'enterprise', 'customers', '.']\n"
     ]
    }
   ],
   "source": [
    "from nltk.tokenize import word_tokenize\n",
    "\n",
    "# Split text into words using NLTK\n",
    "words = word_tokenize(text)\n",
    "print(words)"
   ]
  },
  {
   "cell_type": "code",
   "execution_count": 27,
   "id": "0712e959-8f11-4658-b32a-ff6a8ddb306b",
   "metadata": {},
   "outputs": [
    {
     "name": "stdout",
     "output_type": "stream",
     "text": [
      "['Dr. Smith graduated from the University of Washington.', 'He later started an analytics firm called Lux, which catered to enterprise customers.']\n"
     ]
    }
   ],
   "source": [
    "from nltk.tokenize import sent_tokenize\n",
    "\n",
    "# Split text into sentences\n",
    "sentences = sent_tokenize(text)\n",
    "print(sentences)"
   ]
  },
  {
   "cell_type": "code",
   "execution_count": 30,
   "id": "ca03fbf8-b176-452d-ba7a-ab2cc85d9e68",
   "metadata": {},
   "outputs": [
    {
     "name": "stdout",
     "output_type": "stream",
     "text": [
      "['i', 'me', 'my', 'myself', 'we', 'our', 'ours', 'ourselves', 'you', \"you're\", \"you've\", \"you'll\", \"you'd\", 'your', 'yours', 'yourself', 'yourselves', 'he', 'him', 'his', 'himself', 'she', \"she's\", 'her', 'hers', 'herself', 'it', \"it's\", 'its', 'itself', 'they', 'them', 'their', 'theirs', 'themselves', 'what', 'which', 'who', 'whom', 'this', 'that', \"that'll\", 'these', 'those', 'am', 'is', 'are', 'was', 'were', 'be', 'been', 'being', 'have', 'has', 'had', 'having', 'do', 'does', 'did', 'doing', 'a', 'an', 'the', 'and', 'but', 'if', 'or', 'because', 'as', 'until', 'while', 'of', 'at', 'by', 'for', 'with', 'about', 'against', 'between', 'into', 'through', 'during', 'before', 'after', 'above', 'below', 'to', 'from', 'up', 'down', 'in', 'out', 'on', 'off', 'over', 'under', 'again', 'further', 'then', 'once', 'here', 'there', 'when', 'where', 'why', 'how', 'all', 'any', 'both', 'each', 'few', 'more', 'most', 'other', 'some', 'such', 'no', 'nor', 'not', 'only', 'own', 'same', 'so', 'than', 'too', 'very', 's', 't', 'can', 'will', 'just', 'don', \"don't\", 'should', \"should've\", 'now', 'd', 'll', 'm', 'o', 're', 've', 'y', 'ain', 'aren', \"aren't\", 'couldn', \"couldn't\", 'didn', \"didn't\", 'doesn', \"doesn't\", 'hadn', \"hadn't\", 'hasn', \"hasn't\", 'haven', \"haven't\", 'isn', \"isn't\", 'ma', 'mightn', \"mightn't\", 'mustn', \"mustn't\", 'needn', \"needn't\", 'shan', \"shan't\", 'shouldn', \"shouldn't\", 'wasn', \"wasn't\", 'weren', \"weren't\", 'won', \"won't\", 'wouldn', \"wouldn't\"]\n"
     ]
    }
   ],
   "source": [
    "# List stop words\n",
    "from nltk.corpus import stopwords\n",
    "print(stopwords.words(\"english\"))"
   ]
  },
  {
   "cell_type": "code",
   "execution_count": 31,
   "id": "48db73bf-058d-4dba-a599-032494611601",
   "metadata": {},
   "outputs": [
    {
     "name": "stdout",
     "output_type": "stream",
     "text": [
      "['the', 'first', 'time', 'you', 'see', 'the', 'second', 'renaissance', 'it', 'may', 'look', 'boring', 'look', 'at', 'it', 'at', 'least', 'twice', 'and', 'definitely', 'watch', 'part', '2', 'it', 'will', 'change', 'your', 'view', 'of', 'the', 'matrix', 'are', 'the', 'human', 'people', 'the', 'ones', 'who', 'started', 'the', 'war', 'is', 'ai', 'a', 'bad', 'thing']\n"
     ]
    }
   ],
   "source": [
    "# Reset text\n",
    "text = \"The first time you see The Second Renaissance it may look boring. Look at it at least twice and definitely watch part 2. It will change your view of the matrix. Are the human people the ones who started the war ? Is AI a bad thing ?\"\n",
    "\n",
    "# Normalize it\n",
    "text = re.sub(r\"[^a-zA-Z0-9]\", \" \", text.lower())\n",
    "\n",
    "# Tokenize it\n",
    "words = text.split()\n",
    "print(words)"
   ]
  },
  {
   "cell_type": "code",
   "execution_count": 32,
   "id": "3b28a8cf-402d-41de-98c1-37c32adee6d7",
   "metadata": {},
   "outputs": [
    {
     "name": "stdout",
     "output_type": "stream",
     "text": [
      "['first', 'time', 'see', 'second', 'renaissance', 'may', 'look', 'boring', 'look', 'least', 'twice', 'definitely', 'watch', 'part', '2', 'change', 'view', 'matrix', 'human', 'people', 'ones', 'started', 'war', 'ai', 'bad', 'thing']\n"
     ]
    }
   ],
   "source": [
    "# Remove stop words\n",
    "words = [w for w in words if w not in stopwords.words(\"english\")]\n",
    "print(words)"
   ]
  },
  {
   "cell_type": "markdown",
   "id": "f9c976dd-b5c7-4351-aa38-ad1144e6c0ea",
   "metadata": {},
   "source": [
    "## Part of Speech Tagging / Sentence Parsing"
   ]
  },
  {
   "cell_type": "code",
   "execution_count": 33,
   "id": "5d544131-59ee-4f36-b98c-cd946dab3254",
   "metadata": {},
   "outputs": [
    {
     "name": "stdout",
     "output_type": "stream",
     "text": [
      "(S\n",
      "  (NP I)\n",
      "  (VP\n",
      "    (VP (V shot) (NP (Det an) (N elephant)))\n",
      "    (PP (P in) (NP (Det my) (N pajamas)))))\n",
      "(S\n",
      "  (NP I)\n",
      "  (VP\n",
      "    (V shot)\n",
      "    (NP (Det an) (N elephant) (PP (P in) (NP (Det my) (N pajamas))))))\n"
     ]
    }
   ],
   "source": [
    "# Define a custom grammar\n",
    "my_grammar = nltk.CFG.fromstring(\"\"\"\n",
    "S -> NP VP\n",
    "PP -> P NP\n",
    "NP -> Det N | Det N PP | 'I'\n",
    "VP -> V NP | VP PP\n",
    "Det -> 'an' | 'my'\n",
    "N -> 'elephant' | 'pajamas'\n",
    "V -> 'shot'\n",
    "P -> 'in'\n",
    "\"\"\")\n",
    "parser = nltk.ChartParser(my_grammar)\n",
    "\n",
    "# Parse a sentence\n",
    "sentence = word_tokenize(\"I shot an elephant in my pajamas\")\n",
    "for tree in parser.parse(sentence):\n",
    "    print(tree)"
   ]
  },
  {
   "cell_type": "markdown",
   "id": "5695625b-c115-432f-8e45-e32e325389ea",
   "metadata": {},
   "source": [
    "## Stemming & Lemmatization"
   ]
  },
  {
   "cell_type": "markdown",
   "id": "3a8c91b3-a8fc-41e3-9011-9a91547a3e09",
   "metadata": {},
   "source": [
    "1. Stemming"
   ]
  },
  {
   "cell_type": "code",
   "execution_count": 34,
   "id": "76890128-df49-42ff-8017-989ed61230b1",
   "metadata": {},
   "outputs": [
    {
     "name": "stdout",
     "output_type": "stream",
     "text": [
      "['first', 'time', 'see', 'second', 'renaiss', 'may', 'look', 'bore', 'look', 'least', 'twice', 'definit', 'watch', 'part', '2', 'chang', 'view', 'matrix', 'human', 'peopl', 'one', 'start', 'war', 'ai', 'bad', 'thing']\n"
     ]
    }
   ],
   "source": [
    "from nltk.stem.porter import PorterStemmer\n",
    "\n",
    "# Reduce words to their stems\n",
    "stemmed = [PorterStemmer().stem(w) for w in words]\n",
    "print(stemmed)"
   ]
  },
  {
   "cell_type": "markdown",
   "id": "c921a134-d9d2-4706-be24-09052180ee28",
   "metadata": {},
   "source": [
    "2. Lemmatization"
   ]
  },
  {
   "cell_type": "code",
   "execution_count": 39,
   "id": "305ddc48-ea61-455e-a852-a079c7e131cc",
   "metadata": {},
   "outputs": [
    {
     "name": "stdout",
     "output_type": "stream",
     "text": [
      "['first', 'time', 'see', 'second', 'renaissance', 'may', 'look', 'boring', 'look', 'least', 'twice', 'definitely', 'watch', 'part', '2', 'change', 'view', 'matrix', 'human', 'people', 'one', 'started', 'war', 'ai', 'bad', 'thing']\n"
     ]
    }
   ],
   "source": [
    "from nltk.stem.wordnet import WordNetLemmatizer\n",
    "\n",
    "# Reduce words to their root form\n",
    "lemmed = [WordNetLemmatizer().lemmatize(w) for w in words]\n",
    "print(lemmed)"
   ]
  },
  {
   "cell_type": "code",
   "execution_count": 40,
   "id": "0cc96814-9957-4b76-a6b3-c7e1b8153ec9",
   "metadata": {},
   "outputs": [
    {
     "name": "stdout",
     "output_type": "stream",
     "text": [
      "['first', 'time', 'see', 'second', 'renaissance', 'may', 'look', 'bore', 'look', 'least', 'twice', 'definitely', 'watch', 'part', '2', 'change', 'view', 'matrix', 'human', 'people', 'one', 'start', 'war', 'ai', 'bad', 'thing']\n"
     ]
    }
   ],
   "source": [
    "# Lemmatize verbs by specifying pos\n",
    "lemmed = [WordNetLemmatizer().lemmatize(w, pos='v') for w in lemmed]\n",
    "print(lemmed)"
   ]
  },
  {
   "cell_type": "markdown",
   "id": "3cd98753-fde1-4c3d-993b-9522b700d3b2",
   "metadata": {},
   "source": [
    "### Data Sources:\n",
    "\n",
    "* `hieroglyph.txt`: [Wikipedia: Ancient Egyptian Writing](https://en.wikipedia.org/wiki/Ancient_Egypt#Writing)<br>\n",
    "* `news.csv`: [UCI Machine Learning Repository](https://archive.ics.uci.edu/ml/datasets/News+Aggregator)<br>\n",
    "\n",
    "### Additional Resources:\n",
    "* [Pandas: Working with Text data](https://pandas.pydata.org/pandas-docs/stable/user_guide/text.html), technical documentation regarding working with text data<br>\n",
    "* [Quote of the Day API](http://quotes.rest/), a platform used to access famous quotes on a daily basis.<br>\n"
   ]
  },
  {
   "cell_type": "code",
   "execution_count": null,
   "id": "09f9aaa1-45a8-4151-bf12-bb8f38dc2896",
   "metadata": {},
   "outputs": [],
   "source": []
  }
 ],
 "metadata": {
  "kernelspec": {
   "display_name": "venv_ud_nlp",
   "language": "python",
   "name": "venv_ud_nlp"
  },
  "language_info": {
   "codemirror_mode": {
    "name": "ipython",
    "version": 3
   },
   "file_extension": ".py",
   "mimetype": "text/x-python",
   "name": "python",
   "nbconvert_exporter": "python",
   "pygments_lexer": "ipython3",
   "version": "3.10.4"
  }
 },
 "nbformat": 4,
 "nbformat_minor": 5
}
