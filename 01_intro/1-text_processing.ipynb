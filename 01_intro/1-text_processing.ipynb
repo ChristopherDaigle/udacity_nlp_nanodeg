{
 "cells": [
  {
   "cell_type": "markdown",
   "id": "fe64c03d-e4f5-45e6-8b71-2c281962906e",
   "metadata": {},
   "source": [
    "# Text Processing\n",
    "\n",
    "Here, we'll learn how to read text data from different sources and prepare it for feature extraction\n",
    "\n",
    "* [Udacity NLP Nanodegree Repository](https://github.com/udacity/cd0377-Introduction-to-Natural-Language-Processing)"
   ]
  },
  {
   "cell_type": "markdown",
   "id": "d79da5d5-df22-425e-b637-ba106a090a06",
   "metadata": {},
   "source": [
    "ASIDE: Working with Udacity GPU Enabled Notebooks\n",
    "\n",
    "Context Manager Example:\n",
    "```python\n",
    "from workspace_utils import active_session\n",
    "\n",
    "with active_session():\n",
    "    # do long-running work here\n",
    "```\n",
    "\n",
    "Iterator Wrapper Example:\n",
    "```python\n",
    "from workspace_utils import keep_awake\n",
    "\n",
    "for i in keep_awake(range(5)):\n",
    "    # do iteration with lots of work here\n",
    "```\n",
    "\n",
    "Reference Module - `workspace_utils.py`:\n",
    "```python\n",
    "import signal\n",
    "\n",
    "from contextlib import contextmanager\n",
    "\n",
    "import requests\n",
    "\n",
    "\n",
    "DELAY = INTERVAL = 4 * 60  # interval time in seconds\n",
    "MIN_DELAY = MIN_INTERVAL = 2 * 60\n",
    "KEEPALIVE_URL = \"https://nebula.udacity.com/api/v1/remote/keep-alive\"\n",
    "TOKEN_URL = \"http://metadata.google.internal/computeMetadata/v1/instance/attributes/keep_alive_token\"\n",
    "TOKEN_HEADERS = {\"Metadata-Flavor\":\"Google\"}\n",
    "\n",
    "\n",
    "def _request_handler(headers):\n",
    "    def _handler(signum, frame):\n",
    "        requests.request(\"POST\", KEEPALIVE_URL, headers=headers)\n",
    "    return _handler\n",
    "\n",
    "\n",
    "@contextmanager\n",
    "def active_session(delay=DELAY, interval=INTERVAL):\n",
    "    \"\"\"\n",
    "    Example:\n",
    "\n",
    "    from workspace_utils import active session\n",
    "\n",
    "    with active_session():\n",
    "        # do long-running work here\n",
    "    \"\"\"\n",
    "    token = requests.request(\"GET\", TOKEN_URL, headers=TOKEN_HEADERS).text\n",
    "    headers = {'Authorization': \"STAR \" + token}\n",
    "    delay = max(delay, MIN_DELAY)\n",
    "    interval = max(interval, MIN_INTERVAL)\n",
    "    original_handler = signal.getsignal(signal.SIGALRM)\n",
    "    try:\n",
    "        signal.signal(signal.SIGALRM, _request_handler(headers))\n",
    "        signal.setitimer(signal.ITIMER_REAL, delay, interval)\n",
    "        yield\n",
    "    finally:\n",
    "        signal.signal(signal.SIGALRM, original_handler)\n",
    "        signal.setitimer(signal.ITIMER_REAL, 0)\n",
    "\n",
    "\n",
    "def keep_awake(iterable, delay=DELAY, interval=INTERVAL):\n",
    "    \"\"\"\n",
    "    Example:\n",
    "\n",
    "    from workspace_utils import keep_awake\n",
    "\n",
    "    for i in keep_awake(range(5)):\n",
    "        # do iteration with lots of work here\n",
    "    \"\"\"\n",
    "    with active_session(delay, interval): yield from iterable\n",
    "```"
   ]
  },
  {
   "cell_type": "markdown",
   "id": "c4364103-25d1-4558-90af-5430020d209d",
   "metadata": {},
   "source": [
    "# Capturing Text Data\n",
    "\n",
    "The processing stage begins with reading text data.\n",
    "\n",
    "Common sources:\n",
    "1. Plain text file on your local machine that can be read with the Python's `with open()` builtin\n",
    "2. CSV that can be read in using Pandas\n",
    "3. Online data accessed via an API (application programming interface)"
   ]
  },
  {
   "cell_type": "markdown",
   "id": "63604ee9-2425-42e6-87d3-87adfd08c33f",
   "metadata": {},
   "source": [
    "## Exercise on Text Processing:\n",
    "\n",
    "1. Plain Text"
   ]
  },
  {
   "cell_type": "code",
   "execution_count": 13,
   "id": "4514591e-fb7d-4f25-bb5f-5448ff8000dc",
   "metadata": {},
   "outputs": [],
   "source": [
    "ud_folder = 'cd0377-Introduction-to-Natural-Language-Processing'"
   ]
  },
  {
   "cell_type": "code",
   "execution_count": 1,
   "id": "c1435e8c-307e-4e1a-84b7-5a58f6535c31",
   "metadata": {},
   "outputs": [],
   "source": [
    "import sys\n",
    "from pathlib import Path\n",
    "import os\n",
    "import nltk\n",
    "import pandas as pd\n",
    "import requests\n",
    "import json\n",
    "import re\n",
    "from bs4 import BeautifulSoup"
   ]
  },
  {
   "cell_type": "code",
   "execution_count": 12,
   "id": "88cc05f1-3f6c-4507-9997-72158fb9d416",
   "metadata": {},
   "outputs": [],
   "source": [
    "dir_items = ['cd0377-Introduction-to-Natural-Language-Processing']\n",
    "data_path = Path.cwd().parents[0].joinpath(*dir_items)\n",
    "sys.path.append(data_path)"
   ]
  },
  {
   "cell_type": "code",
   "execution_count": 14,
   "id": "3f9af366-23fd-4263-8ead-6cbbc6d95ae7",
   "metadata": {},
   "outputs": [
    {
     "name": "stdout",
     "output_type": "stream",
     "text": [
      "Hieroglyphic writing dates from c. 3000 BC, and is composed of hundreds of symbols. A hieroglyph can represent a word, a sound, or a silent determinative; and the same symbol can serve different purposes in different contexts. Hieroglyphs were a formal script, used on stone monuments and in tombs, that could be as detailed as individual works of art.\n",
      "\n"
     ]
    }
   ],
   "source": [
    "dir_items = [ud_folder, 'data', 'hieroglyph.txt']\n",
    "data_path = Path.cwd().parents[0].joinpath(*dir_items)\n",
    "with open(data_path, 'r') as f:\n",
    "    text = f.read()\n",
    "print(text)"
   ]
  },
  {
   "cell_type": "markdown",
   "id": "60b1defe-41aa-44e2-bf14-d0ed98eecd18",
   "metadata": {},
   "source": [
    "2. Tabular Data"
   ]
  },
  {
   "cell_type": "code",
   "execution_count": 17,
   "id": "31aaaf4d-3a20-4a7d-9be6-7cb87674409a",
   "metadata": {},
   "outputs": [
    {
     "data": {
      "text/html": [
       "<div>\n",
       "<style scoped>\n",
       "    .dataframe tbody tr th:only-of-type {\n",
       "        vertical-align: middle;\n",
       "    }\n",
       "\n",
       "    .dataframe tbody tr th {\n",
       "        vertical-align: top;\n",
       "    }\n",
       "\n",
       "    .dataframe thead th {\n",
       "        text-align: right;\n",
       "    }\n",
       "</style>\n",
       "<table border=\"1\" class=\"dataframe\">\n",
       "  <thead>\n",
       "    <tr style=\"text-align: right;\">\n",
       "      <th></th>\n",
       "      <th>publisher</th>\n",
       "      <th>title</th>\n",
       "    </tr>\n",
       "  </thead>\n",
       "  <tbody>\n",
       "    <tr>\n",
       "      <th>0</th>\n",
       "      <td>Livemint</td>\n",
       "      <td>Fed's Charles Plosser sees high bar for change...</td>\n",
       "    </tr>\n",
       "    <tr>\n",
       "      <th>1</th>\n",
       "      <td>IFA Magazine</td>\n",
       "      <td>US open: Stocks fall after Fed official hints ...</td>\n",
       "    </tr>\n",
       "    <tr>\n",
       "      <th>2</th>\n",
       "      <td>IFA Magazine</td>\n",
       "      <td>Fed risks falling 'behind the curve', Charles ...</td>\n",
       "    </tr>\n",
       "    <tr>\n",
       "      <th>3</th>\n",
       "      <td>Moneynews</td>\n",
       "      <td>Fed's Plosser: Nasty Weather Has Curbed Job Gr...</td>\n",
       "    </tr>\n",
       "    <tr>\n",
       "      <th>4</th>\n",
       "      <td>NASDAQ</td>\n",
       "      <td>Plosser: Fed May Have to Accelerate Tapering Pace</td>\n",
       "    </tr>\n",
       "  </tbody>\n",
       "</table>\n",
       "</div>"
      ],
      "text/plain": [
       "      publisher                                              title\n",
       "0      Livemint  Fed's Charles Plosser sees high bar for change...\n",
       "1  IFA Magazine  US open: Stocks fall after Fed official hints ...\n",
       "2  IFA Magazine  Fed risks falling 'behind the curve', Charles ...\n",
       "3     Moneynews  Fed's Plosser: Nasty Weather Has Curbed Job Gr...\n",
       "4        NASDAQ  Plosser: Fed May Have to Accelerate Tapering Pace"
      ]
     },
     "metadata": {},
     "output_type": "display_data"
    },
    {
     "name": "stdout",
     "output_type": "stream",
     "text": [
      "\n",
      "Convert text column to lowercase\n"
     ]
    },
    {
     "data": {
      "text/html": [
       "<div>\n",
       "<style scoped>\n",
       "    .dataframe tbody tr th:only-of-type {\n",
       "        vertical-align: middle;\n",
       "    }\n",
       "\n",
       "    .dataframe tbody tr th {\n",
       "        vertical-align: top;\n",
       "    }\n",
       "\n",
       "    .dataframe thead th {\n",
       "        text-align: right;\n",
       "    }\n",
       "</style>\n",
       "<table border=\"1\" class=\"dataframe\">\n",
       "  <thead>\n",
       "    <tr style=\"text-align: right;\">\n",
       "      <th></th>\n",
       "      <th>publisher</th>\n",
       "      <th>title</th>\n",
       "    </tr>\n",
       "  </thead>\n",
       "  <tbody>\n",
       "    <tr>\n",
       "      <th>0</th>\n",
       "      <td>Livemint</td>\n",
       "      <td>fed's charles plosser sees high bar for change...</td>\n",
       "    </tr>\n",
       "    <tr>\n",
       "      <th>1</th>\n",
       "      <td>IFA Magazine</td>\n",
       "      <td>us open: stocks fall after fed official hints ...</td>\n",
       "    </tr>\n",
       "    <tr>\n",
       "      <th>2</th>\n",
       "      <td>IFA Magazine</td>\n",
       "      <td>fed risks falling 'behind the curve', charles ...</td>\n",
       "    </tr>\n",
       "    <tr>\n",
       "      <th>3</th>\n",
       "      <td>Moneynews</td>\n",
       "      <td>fed's plosser: nasty weather has curbed job gr...</td>\n",
       "    </tr>\n",
       "    <tr>\n",
       "      <th>4</th>\n",
       "      <td>NASDAQ</td>\n",
       "      <td>plosser: fed may have to accelerate tapering pace</td>\n",
       "    </tr>\n",
       "  </tbody>\n",
       "</table>\n",
       "</div>"
      ],
      "text/plain": [
       "      publisher                                              title\n",
       "0      Livemint  fed's charles plosser sees high bar for change...\n",
       "1  IFA Magazine  us open: stocks fall after fed official hints ...\n",
       "2  IFA Magazine  fed risks falling 'behind the curve', charles ...\n",
       "3     Moneynews  fed's plosser: nasty weather has curbed job gr...\n",
       "4        NASDAQ  plosser: fed may have to accelerate tapering pace"
      ]
     },
     "metadata": {},
     "output_type": "display_data"
    }
   ],
   "source": [
    "dir_items = [ud_folder, 'data', 'news.csv']\n",
    "data_path = Path.cwd().parents[0].joinpath(*dir_items)\n",
    "df = pd.read_csv(data_path)\n",
    "display(df[['publisher', 'title']].head())\n",
    "print()\n",
    "print(\"Convert text column to lowercase\")\n",
    "df['title'] = df['title'].str.lower()\n",
    "display(df[['publisher', 'title']].head())"
   ]
  },
  {
   "cell_type": "markdown",
   "id": "29e8f77c-4f5c-4ee5-b281-14c2d2c467ad",
   "metadata": {},
   "source": [
    "3. Online Source"
   ]
  },
  {
   "cell_type": "code",
   "execution_count": 19,
   "id": "82f25996-c118-448a-9907-8b9f9710ae88",
   "metadata": {},
   "outputs": [
    {
     "name": "stderr",
     "output_type": "stream",
     "text": [
      "/Users/daiglechris/Git/udacity_nlp_nanodeg/venv_ud_nlp/lib/python3.8/site-packages/urllib3/connectionpool.py:1045: InsecureRequestWarning: Unverified HTTPS request is being made to host 'quotes.rest'. Adding certificate verification is strongly advised. See: https://urllib3.readthedocs.io/en/1.26.x/advanced-usage.html#ssl-warnings\n",
      "  warnings.warn(\n"
     ]
    },
    {
     "name": "stdout",
     "output_type": "stream",
     "text": [
      "{\n",
      "    \"success\": {\n",
      "        \"total\": 1\n",
      "    },\n",
      "    \"contents\": {\n",
      "        \"quotes\": [\n",
      "            {\n",
      "                \"quote\": \"The man who removes a mountain begins by carrying away small stones..\",\n",
      "                \"length\": \"71\",\n",
      "                \"author\": \"Chinese Proverb\",\n",
      "                \"tags\": [\n",
      "                    \"inspire\",\n",
      "                    \"moving-mountains\"\n",
      "                ],\n",
      "                \"category\": \"inspire\",\n",
      "                \"language\": \"en\",\n",
      "                \"date\": \"2022-08-26\",\n",
      "                \"permalink\": \"https://theysaidso.com/quote/chinese-proverb-the-man-who-removes-a-mountain-begins-by-carrying-away-small-sto\",\n",
      "                \"id\": \"h7Gyu282q_vzBWvn2zdmtweF\",\n",
      "                \"background\": \"https://theysaidso.com/img/qod/qod-inspire.jpg\",\n",
      "                \"title\": \"Inspiring Quote of the day\"\n",
      "            }\n",
      "        ]\n",
      "    },\n",
      "    \"baseurl\": \"https://theysaidso.com\",\n",
      "    \"copyright\": {\n",
      "        \"year\": 2024,\n",
      "        \"url\": \"https://theysaidso.com\"\n",
      "    }\n",
      "}\n",
      "\n",
      "Get the quote of the day and the author\n",
      "The man who removes a mountain begins by carrying away small stones.. \n",
      "-- Chinese Proverb\n"
     ]
    }
   ],
   "source": [
    "r = requests.get('https://quotes.rest/qod.json', verify=False)\n",
    "res = r.json()\n",
    "print(json.dumps(res, indent=4))\n",
    "print()\n",
    "print(\"Get the quote of the day and the author\")\n",
    "qod_obj = res[\"contents\"][\"quotes\"][0]\n",
    "qod = qod_obj['quote']\n",
    "auth = qod_obj['author']\n",
    "print(qod, \"\\n--\", auth)"
   ]
  },
  {
   "cell_type": "code",
   "execution_count": null,
   "id": "931f4236-3ba2-405c-ab02-61b9eca97c6c",
   "metadata": {},
   "outputs": [],
   "source": []
  }
 ],
 "metadata": {
  "kernelspec": {
   "display_name": "venv_ud_nlp",
   "language": "python",
   "name": "venv_ud_nlp"
  },
  "language_info": {
   "codemirror_mode": {
    "name": "ipython",
    "version": 3
   },
   "file_extension": ".py",
   "mimetype": "text/x-python",
   "name": "python",
   "nbconvert_exporter": "python",
   "pygments_lexer": "ipython3",
   "version": "3.8.8"
  }
 },
 "nbformat": 4,
 "nbformat_minor": 5
}
