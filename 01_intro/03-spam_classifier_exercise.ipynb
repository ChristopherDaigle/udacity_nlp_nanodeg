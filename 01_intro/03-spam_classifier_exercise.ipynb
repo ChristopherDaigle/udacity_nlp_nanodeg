{
 "cells": [
  {
   "cell_type": "markdown",
   "id": "08a48481-9875-4151-ac27-7c14b0a46b15",
   "metadata": {},
   "source": [
    "# Practice Project: Building a spam classifier\n",
    "\n",
    "## Introduction\n",
    "\n",
    "**Spam detection** is one of the major applications of Machine Learning on the internet. Pretty much all of the major email service providers have spam detection systems built-in and automatically classify such mail as 'Junk Mail'.\n",
    "\n",
    "**In this exercise, we will be using the Naive Bayes algorithm to create a model that can classify dataset SMS messages as spam or not spam, based on the training we give to the model.** It is important to have some level of intuition as to what a spammy text message might look like.\n",
    "\n",
    "## What are spammy messages?\n",
    "\n",
    "Usually, they have words like 'free', 'win', 'winner', 'cash', 'prize', or similar words in them, as these texts are designed to catch your eye and tempt you to open them. Also, spam messages tend to have words written in all capitals and also tend to use a lot of exclamation marks. To the recipient, it is usually pretty straightforward to identify a spam text and our objective here is to train a model to do that for us!\n",
    "\n",
    "**Being able to identify spam messages is a binary classification problem as messages are classified as either 'Spam' or 'Not Spam' and nothing else. Also, this is a supervised learning problem, as we know what we are trying to predict. We will be feeding a labeled dataset into the model, that it can learn from, to make future predictions.**\n",
    "\n",
    "<img src='img_39.png' width=700 align='center'>"
   ]
  },
  {
   "cell_type": "code",
   "execution_count": null,
   "id": "4ee751fa-bfcd-41b6-a1a9-fd2b5f4602d1",
   "metadata": {},
   "outputs": [],
   "source": []
  }
 ],
 "metadata": {
  "kernelspec": {
   "display_name": "venv_ud_nlp",
   "language": "python",
   "name": "venv_ud_nlp"
  },
  "language_info": {
   "codemirror_mode": {
    "name": "ipython",
    "version": 3
   },
   "file_extension": ".py",
   "mimetype": "text/x-python",
   "name": "python",
   "nbconvert_exporter": "python",
   "pygments_lexer": "ipython3",
   "version": "3.10.4"
  }
 },
 "nbformat": 4,
 "nbformat_minor": 5
}
