{
 "cells": [
  {
   "cell_type": "markdown",
   "id": "587463f1-e98e-475a-aebf-ddc97e5dbece",
   "metadata": {
    "tags": []
   },
   "source": [
    "# Spam Classifier with Naive Bayes\n",
    "\n",
    "**Naive Bayes** is a supervised machine learning algorithm that can be trained to classify data into multi-class categories. In the heart of the Naive Bayes algorithm is the probabilistic model that computes the conditional probabilities of the input features and assigns the probability distributions to each of the possible classes.\n",
    "\n",
    "In this lesson, we will:\n",
    "* Review the conditional probability and Bayes Rule\n",
    "* Learn how the Naive Bayes algorithm works\n",
    "\n",
    "At the end of this course, you will do a coding exercise to apply Naive Bayes in a Natural Language Processing (NLP) task, ie. spam emails classification, using the Scikit-Learn library"
   ]
  },
  {
   "cell_type": "markdown",
   "id": "addb27a3-ce4d-421e-9cdb-6fa74f30be09",
   "metadata": {},
   "source": [
    "## Introduction to Bayes Theorem\n",
    "\n",
    "Suppose we are at an office and there are two people, Alex and Brenda. One of them passes us by in the hallway, but we aren't sure which it is. Without any other information, what is the probability it was Alex? Brenda?\n",
    "> *Prior*: initial 50:50 guess, it's all we can infer *prior* to new information\n",
    "\n",
    "Suppose we have some other information, like the person was wearing a red sweater. We happen to know that the frequency with which Alex and Brenda wear red sweaters each week (for whatever reason), but we don't know which days. If we know Alex wears a red sweater 2 days and Brenda wears a red sweater 3 days out of the same work week, what is the probability that Alex passed us? Brenda?\n",
    "> * *Posterior*: inferred after new information arrived\n",
    "\n",
    "<img src=\"img_18.png\" width=700 align='center'>"
   ]
  },
  {
   "cell_type": "code",
   "execution_count": null,
   "id": "011e5670-9bf9-49d0-ba51-a9edda7adb11",
   "metadata": {},
   "outputs": [],
   "source": []
  }
 ],
 "metadata": {
  "kernelspec": {
   "display_name": "venv_ud_nlp",
   "language": "python",
   "name": "venv_ud_nlp"
  },
  "language_info": {
   "codemirror_mode": {
    "name": "ipython",
    "version": 3
   },
   "file_extension": ".py",
   "mimetype": "text/x-python",
   "name": "python",
   "nbconvert_exporter": "python",
   "pygments_lexer": "ipython3",
   "version": "3.10.4"
  }
 },
 "nbformat": 4,
 "nbformat_minor": 5
}
