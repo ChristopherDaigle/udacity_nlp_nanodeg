{
 "cells": [
  {
   "cell_type": "markdown",
   "id": "ce4fdbdd-4400-4e46-a260-63265cb54253",
   "metadata": {},
   "source": [
    "# Sentiment Analysis\n",
    "\n",
    "[1. Sentiment Analysis with Regular Classifier](#1)<br>\n",
    "[2. Sentiment Analysis with RNN](#2)<br>"
   ]
  },
  {
   "cell_type": "markdown",
   "id": "02410fc6-8143-4042-8164-520d71ddf87b",
   "metadata": {},
   "source": [
    "# <a id='0'>0: Introduction"
   ]
  },
  {
   "cell_type": "markdown",
   "id": "ded87398-d50d-4c64-b0a3-73a41fc2a9d8",
   "metadata": {},
   "source": [
    "Sentiment Analysis (SA) is one of the most popular uses of NLP these days.\n",
    "\n",
    "SA has become an important tool for many purposes. Some examples are:\n",
    "* Customer sentiment in a company for financial anaylsis and investment decisions\n",
    "* Social Media feedback for advertising campaigns\n",
    "* Quantitative measure for book and movie reviews\n",
    "\n",
    "This section will be relatively short as the topic is simple once you know classification algorithms. It will have two labs where in each you will train a classifier on movie reviews from the Internet Movie Database (IMDB) dataset.\n",
    "\n",
    "Labs:\n",
    "1. Regular supervised learning classifier looking at a review as an unorganized collection of words\n",
    "2. Exploit the sequentiality of the sentences and will train a more accurate classifier using a Recurrent Neural Network (RNN)"
   ]
  },
  {
   "cell_type": "markdown",
   "id": "b01b502e-efa4-4c93-adf1-0f55438c3a77",
   "metadata": {},
   "source": [
    "# <a id='1'>1: Sentiment Analysis with Regular Classifier</a>"
   ]
  },
  {
   "cell_type": "markdown",
   "id": "ea92ca35-b4a9-4d15-9a6f-0981396ec567",
   "metadata": {},
   "source": [
    "# <a id='2'>2: Sentiment Analysis with RNN</a>"
   ]
  },
  {
   "cell_type": "code",
   "execution_count": null,
   "id": "7dd5a75c-8b43-4b1d-b6fb-13c4486d7c43",
   "metadata": {},
   "outputs": [],
   "source": []
  }
 ],
 "metadata": {
  "kernelspec": {
   "display_name": "venv_ud_nlp",
   "language": "python",
   "name": "venv_ud_nlp"
  },
  "language_info": {
   "codemirror_mode": {
    "name": "ipython",
    "version": 3
   },
   "file_extension": ".py",
   "mimetype": "text/x-python",
   "name": "python",
   "nbconvert_exporter": "python",
   "pygments_lexer": "ipython3",
   "version": "3.10.4"
  }
 },
 "nbformat": 4,
 "nbformat_minor": 5
}
