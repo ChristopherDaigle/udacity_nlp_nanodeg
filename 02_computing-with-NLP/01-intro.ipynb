{
 "cells": [
  {
   "cell_type": "markdown",
   "id": "674775be-dcda-4557-9aa3-040b8a762d4f",
   "metadata": {},
   "source": [
    "# Introduction to Computing With Natural Language\n",
    "\n",
    "Welcome to the course on Computing with natural language. In the course, you will learn advanced techniques like word embeddings, deep learning attention, and more. By the end, you will build a machine translation model using recurrent neural network architectures.\n",
    "\n",
    "## Course Outline\n",
    "\n",
    "### Lesson 1: Feature extraction and embedding\n",
    "In this lesson, you will learn how to use Bag-of-Words, TF-IDF, Word2Vec, and GloVE to extract features that you can use in machine learning models.\n",
    "\n",
    "### Lesson 2: Topic modeling\n",
    "In this section, you'll learn to split a collection of documents into topics using Latent Dirichlet Analysis (LDA). In the lab, you'll be able to apply this model to a dataset of news articles.\n",
    "\n",
    "### Lesson 3: Sentiment analysis\n",
    "You will learn about using several machine learning classifiers, including Recurrent Neural Networks, to predict the sentiment in text. Apply this to a dataset of movie reviews.\n",
    "\n",
    "### Lesson 4: Sequence to sequence\n",
    "Here you'll learn about a specific architecture of RNNs for generating one sequence from another sequence. These RNNs are useful for chatbots, machine translation, and more!\n",
    "\n",
    "### Lesson 5: Deep learning attention\n",
    "Attention is one of the most important recent innovations in deep learning. In this section, you'll learn attention, and you'll go over a basic implementation of it in the lab.\n",
    "\n",
    "### Lesson 6: RNN Keras lab\n",
    "This section will prepare you for the Machine Translation project. Here you will get hands-on practice with RNNs in Keras.\n",
    "\n",
    "### Final project: Machine translation\n",
    "In this project, you will apply the skills you've learned in Natural Language Processing to the challenging and extremely rewarding task of Machine Translation."
   ]
  },
  {
   "cell_type": "code",
   "execution_count": null,
   "id": "feb19e2b-4d9e-49c6-87fb-62a4ca95e09f",
   "metadata": {},
   "outputs": [],
   "source": []
  }
 ],
 "metadata": {
  "kernelspec": {
   "display_name": "venv_ud_nlp",
   "language": "python",
   "name": "venv_ud_nlp"
  },
  "language_info": {
   "codemirror_mode": {
    "name": "ipython",
    "version": 3
   },
   "file_extension": ".py",
   "mimetype": "text/x-python",
   "name": "python",
   "nbconvert_exporter": "python",
   "pygments_lexer": "ipython3",
   "version": "3.10.4"
  }
 },
 "nbformat": 4,
 "nbformat_minor": 5
}
