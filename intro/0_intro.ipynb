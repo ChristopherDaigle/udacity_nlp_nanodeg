{
 "cells": [
  {
   "cell_type": "markdown",
   "id": "f75c84f5-b2c1-4320-993f-03ae5521a7f2",
   "metadata": {},
   "source": [
    "# Introduction to NLP\n",
    "\n",
    "## Course Overview\n",
    "\n",
    "In this course, you will :\n",
    "\n",
    "* Learn text processing fundamentals, including stemming and lemmatization.\n",
    "* Apply fundamental NLP techniques to process specific sets of textual data\n",
    "* Utilize statistical techniques and machine learning to analyze text and build a speech tagging model.\n",
    "\n",
    "## Lesson Overview\n",
    "\n",
    "In this lesson, we will begin with some overarching concepts needed to understand how textual language is processed.\n",
    "\n",
    "* Text Processing\n",
    "* Feature Extraction\n",
    "* Modeling\n",
    "\n",
    "Let's get started!\n",
    "\n",
    "<img src=\"img_0.png\">"
   ]
  },
  {
   "cell_type": "markdown",
   "id": "5affcea8-d9b5-4a39-9207-b5b7621eedf4",
   "metadata": {},
   "source": [
    "# What makes it hard for computers to understand us?\n",
    "\n",
    "One feature of our communication type is a lack of a precisely defined structure\n",
    "\n",
    "Why does that make things difficult: there is ambiguity in the relationship of each item in human communcation that there is not in mathematics or computer programming\n",
    "> * Math and programming are designed to be as unambiguous as possible and are suited for computers to \n"
   ]
  }
 ],
 "metadata": {
  "kernelspec": {
   "display_name": "Python 3",
   "language": "python",
   "name": "python3"
  },
  "language_info": {
   "codemirror_mode": {
    "name": "ipython",
    "version": 3
   },
   "file_extension": ".py",
   "mimetype": "text/x-python",
   "name": "python",
   "nbconvert_exporter": "python",
   "pygments_lexer": "ipython3",
   "version": "3.8.8"
  }
 },
 "nbformat": 4,
 "nbformat_minor": 5
}
