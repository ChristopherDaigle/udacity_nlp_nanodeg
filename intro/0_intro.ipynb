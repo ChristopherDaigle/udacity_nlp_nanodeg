{
 "cells": [
  {
   "cell_type": "markdown",
   "id": "f75c84f5-b2c1-4320-993f-03ae5521a7f2",
   "metadata": {},
   "source": [
    "# Introduction to NLP\n",
    "\n",
    "## Course Overview\n",
    "\n",
    "In this course, you will :\n",
    "\n",
    "* Learn text processing fundamentals, including stemming and lemmatization.\n",
    "* Apply fundamental NLP techniques to process specific sets of textual data\n",
    "* Utilize statistical techniques and machine learning to analyze text and build a speech tagging model.\n",
    "\n",
    "## Lesson Overview\n",
    "\n",
    "In this lesson, we will begin with some overarching concepts needed to understand how textual language is processed.\n",
    "\n",
    "* Text Processing\n",
    "* Feature Extraction\n",
    "* Modeling\n",
    "\n",
    "Let's get started!\n",
    "\n",
    "<img src=\"img_0.png\">"
   ]
  },
  {
   "cell_type": "markdown",
   "id": "5affcea8-d9b5-4a39-9207-b5b7621eedf4",
   "metadata": {},
   "source": [
    "## What makes it hard for computers to understand us?\n",
    "\n",
    "One feature of our communication type is a lack of a precisely defined structure\n",
    "\n",
    "Why does that make things difficult: there is ambiguity in the relationship of each item in human communcation that there is not in mathematics or computer programming\n",
    "> * Math and programming are designed to be as unambiguous as possible and are suited for computers to process\n",
    "\n",
    "Structured languages are easy to parse and understand for computers, because they are defined by a strict set of rules, or **grammar**. When a statement doesn't match the implied grammar, **the computer doesn't try to guess the meaning**. Humans do.\n",
    "\n",
    "Computers can process words and phrases to understand: **keywords, parts of speech (POS), named entities (NER), dates, and quantities**. Using this information, computers can then make sense of: **statements, questions, or instructions**. With this, the computer can take that information to analyze documents and: **identify frequent and rare words, identify tone and sentiment, or cluster similar documents together**.\n",
    "\n",
    "Context is also important. Consider the sentence:\n",
    "> The sofa didn't fit through the door because it was too narrow.\n",
    "\n",
    "In that sentence, it is unclear what \"it\" refers too being too narrow. \"It\" could refer to either the sofa or the door. Humans know that wide things don't fit through narrow things, so it is the door which is too narrow, but this is ambiguous. So, the computer, unless it **understands the relationship of wide and narrow and fitting through something**, would be unable to disambiguate the sentence above!"
   ]
  },
  {
   "cell_type": "markdown",
   "id": "6c05b0bd-45d3-4156-8868-8e07fcd7f15a",
   "metadata": {},
   "source": [
    "## NLP and Pipelines\n",
    "\n",
    "NLP pipelines typically have three stages:\n",
    "1. Text Processing\n",
    "2. Feature Extraction\n",
    "3. Modeling\n",
    "\n",
    "### 1: Text Processing:\n",
    "Goal: Take raw input text, clean it, normalize it, and convert it into a form that is suitable for feature extraction\n",
    "\n",
    "### 2: Feature Extraction:\n",
    "Goal: extract and produce feature representations that are appropriate for the type of model you are planning to use\n",
    "\n",
    "### 3: Modeling:\n",
    "Goal: accomplish the NLP task\n",
    "\n",
    "However, the pipeline may not be perfectly linear. Consider you do the following:\n",
    "1. process\n",
    "2. extract features\n",
    "3. model\n",
    "4. examine model outcomes and are not pleased with results\n",
    "5. review extracted features and are not pleased with the results\n",
    "6. alter the processing\n",
    "7. complete steps 1 through 3 again and if pleased, complete, else, 4 through 6 as well until you are pleased\n"
   ]
  },
  {
   "cell_type": "markdown",
   "id": "fa088bd7-7891-4501-b5b0-60569186758b",
   "metadata": {},
   "source": [
    "### 1: Text Processing - Why do we need to process text\n",
    "\n",
    "Why can we not feed text in directly? Think about where we get text to begin with.\n",
    "\n",
    "Consider a web page, it is rendered on the left from the information on the right. We would not want to process the HTML tags.\n",
    "<img src=\"img_1.png\">\n",
    "\n",
    "There are many sources of text: PDFs, web, word documents, other file formats, speech recognition system (speech to text), a book scanned using Optical Character Recognition (OCR)\n",
    "<img src=\"img_2.png\">\n",
    "\n",
    "Some knowledge of the source medium can help you properly handle the input. In the end, **your goal is to extract plain text that is free of any source specific markers or constructs that are not relevant to your task**. Once you have the cleaned text, further processing may be required. For example, capitalization doesn't usually change the meaning of the word, but capitilization does alter the word's interpretation to the computer. So, the word may need to be lowercased so that all words are treated the same.\n",
    "\n",
    "Example:\n",
    "The Four states of matter are: Solid, liquid, gas, and plasma $\\rightarrow$ four states matter solid liquid gas plasma"
   ]
  },
  {
   "cell_type": "markdown",
   "id": "e1baa815-e677-43fb-8300-41fe673bbabe",
   "metadata": {},
   "source": [
    "$$\\require{cancel}$$\n",
    "### 2: Feature Extraction - Getting Data Right for a Statistical Model\n",
    "\n",
    "Text data is represented to computers as ASCII or Unicode that maps every character to a number. Computers store and transmit these values as binary. The values also have an ordering, but does it make sense for the letter \"A\" to be less than the letter \"B\"?\n",
    "\n",
    "$$\\text{ASCII}\\left(\\text{A}\\right)=65,\\text{ASCII}\\left(\\text{B}\\right)=66, \\text{ASCII}\\left(\\text{C}\\right)=67 \\land 65<66<67 \\cancel{\\implies} \\text{A}<\\text{B}<\\text{C}$$\n",
    "\n",
    "If we let $A<B<C$ stand, then it might mislead our model. Moreover, individual characters dont carry much meaning at all. Words are what we should be concerned with, but computers do not have a standard relationship for words.\n",
    "\n",
    "For computer vision, images can be represented as the light intensity on the color spectrum (RGB) in a matrix. So, as an analogue, how can we come up with a similar representation for text features so we can model them? **It depends on what kind of model you're using and what you are trying to do.**\n",
    "\n",
    "*Graph Based Model*\n",
    "Represent words as symoblic nodes with relationships between them like WordNet\n",
    "<img src=\"img_3.png\">\n",
    "\n",
    "*Statistical Models*\n",
    "Need some sort of numerical representation\n",
    "\n",
    "<img src=\"img_4.png\">\n",
    "\n",
    "* Document level task: per-document representation - bag-of-words or doc2vec<br>\n",
    "Examples:\n",
    "> * Spam detection\n",
    "> * Sentiment analysis\n",
    "\n",
    "<img src=\"img_5.png\">\n",
    "\n",
    "* Individual word and phrase level task: word level representation - word2vec GloVe<br>\n",
    "Examples:\n",
    "> * Text generation\n",
    "> * Machine translation\n",
    "\n",
    "<img src=\"img_6.png\">\n",
    "\n",
    "There are many ways of representing textual information; practice is most likely to inform you of the best for your problem."
   ]
  },
  {
   "cell_type": "markdown",
   "id": "7e647dd8-6d5c-4f96-ae73-3ff5907b57be",
   "metadata": {},
   "source": [
    "### 3: Modeling\n",
    "\n",
    "* Designing a model\n",
    "* Fitting its parameters to training data\n",
    "* Predicting on unseen data\n",
    "\n",
    "<img src=\"img_7.png\">\n",
    "\n",
    "By working with numerical features, it allows us to utilize most any machine learning algorithm.\n",
    "\n",
    "<img src=\"img_8.png\">"
   ]
  },
  {
   "cell_type": "code",
   "execution_count": null,
   "id": "379b9671-6c9e-4587-bc66-a8f8ac60df66",
   "metadata": {},
   "outputs": [],
   "source": []
  }
 ],
 "metadata": {
  "kernelspec": {
   "display_name": "Python 3",
   "language": "python",
   "name": "python3"
  },
  "language_info": {
   "codemirror_mode": {
    "name": "ipython",
    "version": 3
   },
   "file_extension": ".py",
   "mimetype": "text/x-python",
   "name": "python",
   "nbconvert_exporter": "python",
   "pygments_lexer": "ipython3",
   "version": "3.8.8"
  }
 },
 "nbformat": 4,
 "nbformat_minor": 5
}
