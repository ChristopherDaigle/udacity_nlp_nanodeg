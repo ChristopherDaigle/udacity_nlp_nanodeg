{
 "cells": [
  {
   "cell_type": "markdown",
   "id": "fe64c03d-e4f5-45e6-8b71-2c281962906e",
   "metadata": {},
   "source": [
    "# Text Processing\n",
    "\n",
    "Here, we'll learn how to read text data from different sources and prepare it for feature extraction\n",
    "\n",
    "* [Udacity NLP Nanodegree Repository](https://github.com/udacity/cd0377-Introduction-to-Natural-Language-Processing)"
   ]
  },
  {
   "cell_type": "code",
   "execution_count": null,
   "id": "153d985e-b7cf-4bf1-a957-bd1b7a058f6a",
   "metadata": {},
   "outputs": [],
   "source": []
  }
 ],
 "metadata": {
  "kernelspec": {
   "display_name": "venv_ud_ds",
   "language": "python",
   "name": "venv_ud_ds"
  },
  "language_info": {
   "name": ""
  }
 },
 "nbformat": 4,
 "nbformat_minor": 5
}
